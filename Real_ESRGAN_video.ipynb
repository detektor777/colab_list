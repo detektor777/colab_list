{
  "nbformat": 4,
  "nbformat_minor": 0,
  "metadata": {
    "colab": {
      "provenance": [],
      "include_colab_link": true
    },
    "kernelspec": {
      "name": "python3",
      "display_name": "Python 3"
    },
    "language_info": {
      "name": "python"
    },
    "accelerator": "GPU"
  },
  "cells": [
    {
      "cell_type": "markdown",
      "metadata": {
        "id": "view-in-github",
        "colab_type": "text"
      },
      "source": [
        "<a href=\"https://colab.research.google.com/github/detektor777/colab_list/blob/main/Real_ESRGAN_video.ipynb\" target=\"_parent\"><img src=\"https://colab.research.google.com/assets/colab-badge.svg\" alt=\"Open In Colab\"/></a>"
      ]
    },
    {
      "cell_type": "markdown",
      "metadata": {
        "id": "IRDbDYYMQt_Y"
      },
      "source": [
        "# Real-ESRGAN Video\n",
        "\n",
        "Перейити в гугл диск и загрузить в корень диска файл с видео\n",
        "\n",
        "https://drive.google.com/drive/ "
      ]
    },
    {
      "cell_type": "code",
      "source": [
        "#@title ##**Имя видео файла** { display-mode: \"form\" }\n",
        "file_name = input(\"Введите имя файла и нажимете enter: \") or \"input.mp4\""
      ],
      "metadata": {
        "id": "3CULNp2nMLwx"
      },
      "execution_count": null,
      "outputs": []
    },
    {
      "cell_type": "code",
      "metadata": {
        "id": "GnpnrLfMV2jU"
      },
      "source": [
        "#@title ##**Клонирование репозитория** { display-mode: \"form\" }\n",
        "!nvidia-smi\n",
        "!git clone https://github.com/xinntao/Real-ESRGAN.git\n",
        "%cd Real-ESRGAN\n",
        "# Set up the environment\n",
        "!pip install basicsr\n",
        "!pip install facexlib\n",
        "!pip install gfpgan\n",
        "!pip install -r requirements.txt\n",
        "!python setup.py develop"
      ],
      "execution_count": null,
      "outputs": []
    },
    {
      "cell_type": "code",
      "source": [
        "#@title ##**Подключение к гугл диску** { display-mode: \"form\" }\n",
        "from google.colab import drive\n",
        "drive.mount('/mnt/gdrive')\n"
      ],
      "metadata": {
        "id": "6HrQ8PdtNjul",
        "colab": {
          "base_uri": "https://localhost:8080/"
        },
        "outputId": "5ab3ee67-2b53-4e8f-9032-c731748eeeaa"
      },
      "execution_count": null,
      "outputs": [
        {
          "output_type": "stream",
          "name": "stdout",
          "text": [
            "Mounted at /mnt/gdrive\n"
          ]
        }
      ]
    },
    {
      "cell_type": "code",
      "source": [
        "#@title ##**Создать папкки для кадров** { display-mode: \"form\" }\n",
        "import os\n",
        "from google.colab import files\n",
        "import shutil\n",
        "import os\n",
        "import shutil, sys \n",
        "\n",
        "upload_folder = 'upload'\n",
        "result_folder = 'results'\n",
        "\n",
        "if os.path.isdir(upload_folder):\n",
        "    shutil.rmtree(upload_folder)\n",
        "if os.path.isdir(result_folder):\n",
        "    shutil.rmtree(result_folder)\n",
        "os.makedirs(upload_folder)\n",
        "os.makedirs(result_folder)"
      ],
      "metadata": {
        "id": "UXB5XmdlOAFu"
      },
      "execution_count": null,
      "outputs": []
    },
    {
      "cell_type": "code",
      "source": [
        "#@title ##**Разбить видео на кадры** { display-mode: \"form\" }\n",
        "import cv2\n",
        "\n",
        "path = '/mnt/gdrive/MyDrive/'\n",
        "\n",
        "full_path = os.path.join(path, file_name)\n",
        "\n",
        "frames_of_video = int(cv2.VideoCapture(full_path).get(cv2.CAP_PROP_FRAME_COUNT))\n",
        "fps_of_video = int(cv2.VideoCapture(full_path).get(cv2.CAP_PROP_FPS))\n",
        "vidcap = cv2.VideoCapture(full_path)\n",
        "success,image = vidcap.read()\n",
        "count = 0\n",
        "success = True\n",
        "while success:\n",
        "  cv2.imwrite(\"upload/frame%09d.jpg\" % count, image)\n",
        "  success,image = vidcap.read()\n",
        "  count += 1"
      ],
      "metadata": {
        "id": "5hJZ2DGqz09n"
      },
      "execution_count": null,
      "outputs": []
    },
    {
      "cell_type": "code",
      "source": [
        "#@title ##**Конфигурация** { display-mode: \"form\" }\n",
        "model_name = \"RealESRGAN_x2plus\" #@param [\"RealESRGAN_x2plus\",\"RealESRGAN_x4plus\",\"RealESRNet_x4plus\",\"realesr-general-x4v3\",\"RealESRGAN_x4plus_anime_6B\",\"realesr-animevideov3\"]\n",
        "scale = \"2\" #@param [\"2\",\"3\",\"4\"]\n",
        "face_enhance = \"0\" #@param [0,1]\n",
        "\n",
        "command = \"python inference_realesrgan.py -n {} -i upload --outscale {}\".format(model_name, scale)\n",
        "if face_enhance:\n",
        "    command += \" --face_enhance\"\n",
        "\n",
        "os.system(command)"
      ],
      "metadata": {
        "id": "FU7Yc8ER0QHU"
      },
      "execution_count": null,
      "outputs": []
    },
    {
      "cell_type": "code",
      "source": [
        "#@title ##**Собрать видео из кадров** { display-mode: \"form\" }\n",
        "import cv2\n",
        "import os\n",
        "\n",
        "output_file = \"/mnt/gdrive/MyDrive/output.mp4\"\n",
        "\n",
        "# Получаем информацию о видео\n",
        "cap = cv2.VideoCapture(full_path)\n",
        "fps_of_video = int(cap.get(cv2.CAP_PROP_FPS))\n",
        "cap.release()\n",
        "\n",
        "# Получаем список имен файлов в директории\n",
        "img_files = os.listdir(result_folder)\n",
        "# Сортируем файлы в алфавитном порядке\n",
        "img_files.sort()\n",
        "\n",
        "# Получаем размеры первого кадра для создания видео\n",
        "frame = cv2.imread(os.path.join(result_folder, img_files[0]))\n",
        "height, width, _ = frame.shape\n",
        "\n",
        "# Создаем объект writer, который будет писать каждый кадр в выходной видеофайл\n",
        "fourcc = cv2.VideoWriter_fourcc(*'mp4v')\n",
        "writer = cv2.VideoWriter(output_file, fourcc, fps_of_video, (width, height))\n",
        "\n",
        "# Проходим по каждому файлу\n",
        "for img_file in img_files:\n",
        "    # Считываем изображение из файла\n",
        "    img_path = os.path.join(result_folder, img_file)\n",
        "    frame = cv2.imread(img_path)\n",
        "\n",
        "    # Записываем кадр в видеофайл\n",
        "    writer.write(frame)\n",
        "\n",
        "from moviepy.editor import *\n",
        "\n",
        "\n",
        "# Освобождаем ресурсы и закрываем видеофайл\n",
        "writer.release()\n",
        "print('Сборка завершена')"
      ],
      "metadata": {
        "id": "vzBeB4661ms0"
      },
      "execution_count": null,
      "outputs": []
    },
    {
      "cell_type": "code",
      "source": [
        "#@title ##**Добавить звук** { display-mode: \"form\" }\n",
        "# Загружаем видео без звука\n",
        "video = VideoFileClip(output_file)\n",
        "\n",
        "# Загружаем звуковую дорожку\n",
        "audio = AudioFileClip(full_path)\n",
        "\n",
        "# Добавляем звук к видео\n",
        "video = video.set_audio(audio)\n",
        "\n",
        "# Сохраняем полученное видео\n",
        "video.write_videofile('/mnt/gdrive/MyDrive/output_with_audio.mp4')"
      ],
      "metadata": {
        "id": "-eo3d_VF4T2B"
      },
      "execution_count": null,
      "outputs": []
    },
    {
      "cell_type": "code",
      "source": [
        "#@title ##**Скачать файл** { display-mode: \"form\" }\n",
        "from google.colab import files\n",
        "files.download('/mnt/gdrive/MyDrive/output_with_audio.mp4', codec='libx264', fps=video_clip.fps, preset='medium')"
      ],
      "metadata": {
        "id": "6arLwr0B4o0h"
      },
      "execution_count": null,
      "outputs": []
    }
  ]
}
