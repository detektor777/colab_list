{
  "nbformat": 4,
  "nbformat_minor": 0,
  "metadata": {
    "colab": {
      "private_outputs": true,
      "provenance": [],
      "include_colab_link": true
    },
    "kernelspec": {
      "name": "python3",
      "display_name": "Python 3"
    },
    "accelerator": "GPU"
  },
  "cells": [
    {
      "cell_type": "markdown",
      "metadata": {
        "id": "view-in-github",
        "colab_type": "text"
      },
      "source": [
        "<a href=\"https://colab.research.google.com/github/detektor777/colab_list/blob/main/EZ_DAIN.ipynb\" target=\"_parent\"><img src=\"https://colab.research.google.com/assets/colab-badge.svg\" alt=\"Open In Colab\"/></a>"
      ]
    },
    {
      "cell_type": "markdown",
      "source": [
        "[google drive](https://drive.google.com/drive/my-drive)"
      ],
      "metadata": {
        "id": "YFjJFKVG-aov"
      }
    },
    {
      "cell_type": "code",
      "metadata": {
        "id": "enKoi0TR2fOD",
        "cellView": "form"
      },
      "source": [
        "INPUT_FILEPATH = \"input.mp4\" #@param{type:\"string\"}\n",
        "\n",
        "OUTPUT_FILE_PATH = \"output.mp4\" #@param{type:\"string\"}\n",
        "\n",
        "TARGET_FPS = 60 #@param{type:\"number\"}\n",
        "\n",
        "FRAME_INPUT_DIR = '/content/gdrive/MyDrive/dain_input' #@param{type:\"string\"}\n",
        "\n",
        "FRAME_OUTPUT_DIR = '/content/gdrive/MyDrive/dain_output' #@param{type:\"string\"}\n",
        "\n",
        "START_FRAME = 1 #@param{type:\"number\"}\n",
        "\n",
        "END_FRAME = -1 #@param{type:\"number\"}\n",
        "\n",
        "SEAMLESS = False #@param{type:\"boolean\"}\n",
        "\n",
        "AUTO_REMOVE = False #@param{type:\"boolean\"}"
      ],
      "execution_count": null,
      "outputs": []
    },
    {
      "cell_type": "code",
      "metadata": {
        "id": "N9cGwalNeyk9",
        "cellView": "form"
      },
      "source": [
        "#@title Connect Google Drive\n",
        "from google.colab import drive\n",
        "drive.mount('/content/gdrive')\n",
        "print('Google Drive connected.')"
      ],
      "execution_count": null,
      "outputs": []
    },
    {
      "cell_type": "code",
      "metadata": {
        "id": "irzjv1x4e3S4",
        "cellView": "form"
      },
      "source": [
        "#@title Check your current GPU\n",
        "# If you are lucky, you get 16GB VRAM. If you are not lucky, you get less. VRAM is important. The more VRAM, the higher the maximum resolution will go.\n",
        "\n",
        "# 16GB: Can handle 720p. 1080p will procude an out-of-memory error. \n",
        "# 8GB: Can handle 480p. 720p will produce an out-of-memory error.\n",
        "\n",
        "!nvidia-smi --query-gpu=gpu_name,driver_version,memory.total --format=csv"
      ],
      "execution_count": null,
      "outputs": []
    },
    {
      "cell_type": "code",
      "metadata": {
        "id": "e5AHGetTRacZ",
        "cellView": "form"
      },
      "source": [
        "#@title Setup everything. This takes a while. Just wait ~20 minutes in total.\n",
        "%%capture\n",
        "# Install old pytorch to avoid faulty output\n",
        "%cd /content/\n",
        "!wget -c https://repo.anaconda.com/miniconda/Miniconda3-4.5.4-Linux-x86_64.sh\n",
        "!chmod +x Miniconda3-4.5.4-Linux-x86_64.sh\n",
        "!bash ./Miniconda3-4.5.4-Linux-x86_64.sh -b -f -p /usr/local\n",
        "!conda install pytorch==1.1 cudatoolkit torchvision -c pytorch -y\n",
        "!conda install ipykernel -y\n",
        "\n",
        "!pip install scipy==1.1.0\n",
        "!pip install imageio\n",
        "!CUDA_VISIBLE_DEVICES=0\n",
        "!sudo apt-get install imagemagick imagemagick-doc\n",
        "print(\"Finished installing dependencies.\")\n",
        "\n",
        "# Clone DAIN sources\n",
        "%cd /content\n",
        "!git clone -b master --depth 1 https://github.com/baowenbo/DAIN /content/DAIN\n",
        "%cd /content/DAIN\n",
        "!git log -1\n",
        "\n",
        "# Building DAIN\n",
        "%cd /content/DAIN/my_package/\n",
        "!./build.sh\n",
        "print(\"Building #1 done.\")\n",
        "\n",
        "# Building DAIN PyTorch correlation package.\n",
        "%cd /content/DAIN/PWCNet/correlation_package_pytorch1_0\n",
        "!./build.sh\n",
        "print(\"Building #2 done.\")\n",
        "\n",
        "# Downloading pre-trained model\n",
        "%cd /content/DAIN\n",
        "!mkdir model_weights\n",
        "!wget -O model_weights/best.pth http://vllab1.ucmerced.edu/~wenbobao/DAIN/best.pth"
      ],
      "execution_count": null,
      "outputs": []
    },
    {
      "cell_type": "code",
      "metadata": {
        "id": "zm5kn6vTncL4",
        "cellView": "form"
      },
      "source": [
        "#@title Detecting FPS of input file.\n",
        "%shell yes | cp -f /content/gdrive/My\\ Drive/{INPUT_FILEPATH} /content/DAIN/\n",
        "\n",
        "import os\n",
        "filename = os.path.basename(INPUT_FILEPATH)\n",
        "\n",
        "import cv2\n",
        "cap = cv2.VideoCapture(f'/content/DAIN/{filename}')\n",
        "\n",
        "fps = cap.get(cv2.CAP_PROP_FPS)\n",
        "print(f\"Input file has {fps} fps\")\n",
        "\n",
        "if(fps/TARGET_FPS>0.5):\n",
        "  print(\"Define a higher fps, because there is not enough time for new frames. (Old FPS)/(New FPS) should be lower than 0.5. Interpolation will fail if you try.\")"
      ],
      "execution_count": null,
      "outputs": []
    },
    {
      "cell_type": "code",
      "metadata": {
        "id": "9YNva-GuKq4Y",
        "cellView": "form"
      },
      "source": [
        "#@title ffmpeg extract - Generating individual frame PNGs from the source file.\n",
        "import os\n",
        "import subprocess\n",
        "import re\n",
        "import time\n",
        "from tqdm import tqdm\n",
        "\n",
        "if not os.path.isdir(FRAME_INPUT_DIR):\n",
        "  os.mkdir(FRAME_INPUT_DIR)\n",
        "\n",
        "delay = \"0.01\" #@param [0, 0.01, 0.05, 0.1, 0.2, 0.3, 0.4, 0.5]\n",
        "\n",
        "cmd = f\"ffprobe -v error -select_streams v:0 -show_entries stream=nb_frames -of default=nokey=1:noprint_wrappers=1 '{filename}'\"\n",
        "result = subprocess.run(cmd, stdout=subprocess.PIPE, shell=True, encoding='utf-8')\n",
        "\n",
        "num_frames = int(re.findall(r'\\d+', result.stdout)[0])\n",
        "\n",
        "start_frame = 0\n",
        "end_frame = num_frames - 1\n",
        "\n",
        "for i in tqdm(range(start_frame, end_frame + 1)):\n",
        "    output_file = f\"{FRAME_INPUT_DIR}/{i:05d}.png\"\n",
        "    if os.path.exists(output_file):\n",
        "        continue\n",
        "    cmd = f\"ffmpeg -i '/content/DAIN/{filename}' -vf 'select=gte(n\\,{i}),setpts=PTS-STARTPTS' -vframes 1 {output_file}\"\n",
        "    subprocess.run(cmd, shell=True)\n",
        "    time.sleep(float(delay))\n",
        "    \n",
        "from IPython.display import clear_output\n",
        "clear_output()\n",
        "\n",
        "png_generated_count_command_result = %shell ls '{FRAME_INPUT_DIR}' | wc -l\n",
        "frame_count = int(png_generated_count_command_result.output.strip())\n",
        "\n",
        "import shutil\n",
        "if SEAMLESS:\n",
        "  frame_count += 1\n",
        "  first_frame = f\"{FRAME_INPUT_DIR}/00001.png\"\n",
        "  new_last_frame = f\"{FRAME_INPUT_DIR}/{frame_count.zfill(5)}.png\"\n",
        "  shutil.copyfile(first_frame, new_last_frame)\n",
        "\n",
        "print(f\"{frame_count} frame PNGs generated.\")\n",
        "\n",
        "#Checking if PNGs do have alpha\n",
        "import subprocess as sp\n",
        "%cd {FRAME_INPUT_DIR}\n",
        "channels = sp.getoutput('identify -format %[channels] 00001.png')\n",
        "print (f\"{channels} detected\")\n",
        "\n",
        "# Removing alpha if detected\n",
        "if \"a\" in channels:\n",
        "  print(\"Alpha channel detected and will be removed.\")\n",
        "  print(sp.getoutput('find . -name \"*.png\" -exec convert \"{}\" -alpha off PNG24:\"{}\" \\;'))"
      ],
      "execution_count": null,
      "outputs": []
    },
    {
      "cell_type": "code",
      "source": [
        "#@title Continue\n",
        "\n",
        "import glob\n",
        "import re\n",
        "\n",
        "# Ищем все файлы с расширением .png\n",
        "png_files = glob.glob(FRAME_OUTPUT_DIR+'/'+'*.png')\n",
        "\n",
        "if len(png_files) > 0:\n",
        "    # Если есть файлы, выбираем файл с максимальным номером\n",
        "    latest_file = max(png_files, key=lambda f: int(re.findall('\\d+', f)[-1]))\n",
        "    print(latest_file)\n",
        "    # Извлекаем номер из имени файла и делим его на 1000, чтобы получить количество тысяч\n",
        "    thousands = int(re.findall('\\d+', latest_file)[-1]) // 1000\n",
        "    thousands = thousands-1\n",
        "else:\n",
        "    # Если файлы отсутствуют, устанавливаем значение thousands в 1\n",
        "    thousands = 1\n",
        "\n",
        "print(f\"thousands: {thousands}\")\n"
      ],
      "metadata": {
        "cellView": "form",
        "id": "o4-C4EqSCLfs"
      },
      "execution_count": null,
      "outputs": []
    },
    {
      "cell_type": "code",
      "metadata": {
        "id": "W3rrE7L824gL",
        "cellView": "form"
      },
      "source": [
        "#@title Interpolation\n",
        "%shell mkdir -p '{FRAME_OUTPUT_DIR}'\n",
        "%cd /content/DAIN\n",
        "\n",
        "\n",
        "!python -W ignore colab_interpolate.py --netName DAIN_slowmotion --time_step {fps/TARGET_FPS} --start_frame {thousands} --end_frame {frame_count} --frame_input_dir '{FRAME_INPUT_DIR}' --frame_output_dir '{FRAME_OUTPUT_DIR}'"
      ],
      "execution_count": null,
      "outputs": []
    },
    {
      "cell_type": "code",
      "source": [
        "#@title ##**Rename** { display-mode: \"form\" }\n",
        "import glob\n",
        "import os\n",
        "import time\n",
        "\n",
        "png_files = sorted(glob.glob(FRAME_OUTPUT_DIR+'/'+'*.png'))\n",
        "for i, file in enumerate(png_files):\n",
        "    new_filename = '{:05d}.png'.format(i+1)\n",
        "    success = False\n",
        "    while not success:\n",
        "        try:\n",
        "            os.rename(file, os.path.join(os.path.dirname(file), new_filename))\n",
        "            success = True\n",
        "        except Exception as e:\n",
        "            print(f\"Error renaming {file} to {new_filename}: {e}\")\n",
        "            time.sleep(1)  # ждем 1 секунду перед повторной попыткой"
      ],
      "metadata": {
        "id": "YvxaVTmn09WO"
      },
      "execution_count": null,
      "outputs": []
    },
    {
      "cell_type": "code",
      "metadata": {
        "id": "TKREDli2IDMV",
        "cellView": "form"
      },
      "source": [
        "#@title Create output video\n",
        "%cd {FRAME_OUTPUT_DIR}\n",
        "%shell ffmpeg -y -r {TARGET_FPS} -f image2 -pattern_type glob -i '*.png' '/content/gdrive/My Drive/{OUTPUT_FILE_PATH}'\n",
        "\n",
        "\n",
        "\n"
      ],
      "execution_count": null,
      "outputs": []
    },
    {
      "cell_type": "code",
      "metadata": {
        "id": "UF5TEo5N374o",
        "cellView": "form"
      },
      "source": [
        "#@title [Experimental] Create video with sound\n",
        "# Only run this, if the original had sound.\n",
        "%cd {FRAME_OUTPUT_DIR}\n",
        "%shell ffmpeg -i '/content/DAIN/{filename}' -acodec copy output-audio.aac\n",
        "%shell ffmpeg -y -r {TARGET_FPS} -f image2 -pattern_type glob -i '*.png' -i output-audio.aac -shortest '/content/gdrive/My Drive/{OUTPUT_FILE_PATH}'\n",
        "\n",
        "if (AUTO_REMOVE):\n",
        "  !rm -rf {FRAME_OUTPUT_DIR}/*\n",
        "  !rm -rf output-audio.aac"
      ],
      "execution_count": null,
      "outputs": []
    }
  ]
}