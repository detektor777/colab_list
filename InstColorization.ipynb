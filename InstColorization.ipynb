{
  "nbformat": 4,
  "nbformat_minor": 0,
  "metadata": {
    "colab": {
      "provenance": [],
      "include_colab_link": true
    },
    "kernelspec": {
      "name": "python3",
      "display_name": "Python 3"
    },
    "accelerator": "GPU"
  },
  "cells": [
    {
      "cell_type": "markdown",
      "metadata": {
        "id": "view-in-github",
        "colab_type": "text"
      },
      "source": [
        "<a href=\"https://colab.research.google.com/github/detektor777/colab_list/blob/main/InstColorization.ipynb\" target=\"_parent\"><img src=\"https://colab.research.google.com/assets/colab-badge.svg\" alt=\"Open In Colab\"/></a>"
      ]
    },
    {
      "cell_type": "markdown",
      "source": [
        "Перейити в гугл диск и загрузить в корень диска файл с видео\n",
        "\n",
        "https://drive.google.com/drive/"
      ],
      "metadata": {
        "id": "qfEElpzKAnnc"
      }
    },
    {
      "cell_type": "code",
      "source": [
        "#@title ##**Имя видео файла** { display-mode: \"form\" }\n",
        "file_name = input(\"Введите имя файла: \") or \"input.mp4\""
      ],
      "metadata": {
        "id": "1Fio5Uj9-LU6"
      },
      "execution_count": null,
      "outputs": []
    },
    {
      "cell_type": "code",
      "source": [
        "#@title ##**Проверка GPU** { display-mode: \"form\" }\n",
        "!nvidia-smi"
      ],
      "metadata": {
        "id": "Og5CFyX8-PNz"
      },
      "execution_count": null,
      "outputs": []
    },
    {
      "cell_type": "code",
      "source": [
        "#@title ##**Подключение к гугл диску** { display-mode: \"form\" }\n",
        "from google.colab import drive\n",
        "drive.mount('/mnt/gdrive')\n"
      ],
      "metadata": {
        "id": "TMw7-81G-TIm"
      },
      "execution_count": null,
      "outputs": []
    },
    {
      "cell_type": "code",
      "source": [
        "#@title ##**Создать папки для изображений** { display-mode: \"form\" }\n",
        "\n",
        "import os\n",
        "import shutil\n",
        "\n",
        "color_upload_folder = '/mnt/gdrive/MyDrive/color_input'\n",
        "color_result_folder = '/mnt/gdrive/MyDrive/color_output'\n"
      ],
      "metadata": {
        "id": "0wFJFh89-cRE"
      },
      "execution_count": null,
      "outputs": []
    },
    {
      "cell_type": "code",
      "source": [
        "#@title ##**Очистить входящую папку** { display-mode: \"form\" }\n",
        "if os.path.isdir(color_upload_folder):\n",
        "    shutil.rmtree(color_upload_folder)\n",
        "os.makedirs(color_upload_folder)"
      ],
      "metadata": {
        "id": "hnWX-BJH_GuJ"
      },
      "execution_count": null,
      "outputs": []
    },
    {
      "cell_type": "code",
      "source": [
        "#@title ##**Очистить исходящую папку** { display-mode: \"form\" }\n",
        "if os.path.isdir(color_result_folder):\n",
        "    shutil.rmtree(color_result_folder)\n",
        "os.makedirs(color_result_folder)"
      ],
      "metadata": {
        "id": "Iue0u6N6_dLt"
      },
      "execution_count": null,
      "outputs": []
    },
    {
      "cell_type": "code",
      "source": [
        "#@title ##**Секвенция видео** { display-mode: \"form\" }\n",
        "#если нужно продолжить предедущую обработку, то пропустите этот пункт\n",
        "import cv2\n",
        "import imageio\n",
        "import os\n",
        "import tqdm\n",
        "import subprocess\n",
        "import numpy as np\n",
        "import time\n",
        "\n",
        "color_upload_folder = '/mnt/gdrive/MyDrive/color_input'\n",
        "color_result_folder = '/mnt/gdrive/MyDrive/color_output'\n",
        "\n",
        "library = \"imageio\" #@param [\"cv2\",\"pyav\",\"imageio\",\"ffmpeg\",\"skvideo\",\"scipy\",\"moviepy\"]\n",
        "delay = \"0.1\" #@param [0, 0.01, 0.05, 0.05, 0.1, 0.2, 0.3, 0.4, 0.5]\n",
        "if (library == \"cv2\"):\n",
        "    path = '/mnt/gdrive/MyDrive/'\n",
        "    full_path = os.path.join(path, file_name)\n",
        "\n",
        "    cmd = 'ffprobe -v error -select_streams v:0 -count_packets -show_entries stream=nb_read_packets -of csv=p=0 ' + full_path\n",
        "    output = subprocess.check_output(cmd, shell=True).decode('utf-8').strip()\n",
        "\n",
        "    cmd = 'ffprobe -v error -select_streams v:0 -show_entries stream=r_frame_rate -of csv=p=0 ' + full_path\n",
        "    output = subprocess.check_output(cmd, shell=True).decode('utf-8').strip()\n",
        "    vidcap = cv2.VideoCapture(full_path)\n",
        "    fps = vidcap.get(cv2.CAP_PROP_FPS)\n",
        "    frame_count = int(vidcap.get(cv2.CAP_PROP_FRAME_COUNT))\n",
        "\n",
        "    duration = frame_count / fps\n",
        "\n",
        "    print(\"FPS: \", fps)\n",
        "    print(\"Duration: \", duration)\n",
        "    print(\"Frames: \", frame_count)\n",
        "\n",
        "    vidcap = cv2.VideoCapture(full_path)\n",
        "    success, image = vidcap.read()\n",
        "    \n",
        "    tqdm.tqdm.set_lock(tqdm.tqdm.get_lock())\n",
        "    pbar_cv2 = tqdm.tqdm(total=frame_count, ncols=100, position=0, leave=True)\n",
        "    while success:\n",
        "        try:\n",
        "            cv2.imwrite(f\"/mnt/gdrive/MyDrive/color_input/frame{int(vidcap.get(cv2.CAP_PROP_POS_FRAMES)):09d}.jpg\", image)\n",
        "        except cv2.error:\n",
        "            print(\"Error writing to disk. Retrying...\")\n",
        "            continue\n",
        "        pbar_cv2.update(1)\n",
        "        time.sleep(float(delay))\n",
        "        success, image = vidcap.read()\n",
        "\n",
        "    pbar_cv2.close()\n",
        "    vidcap.release()\n",
        "\n",
        "elif (library == \"pyav\"):\n",
        "    !pip install av\n",
        "    import av\n",
        "    video = av.open(full_path)\n",
        "\n",
        "    fps_value = video.streams.video[0].average_rate\n",
        "    frame_count = video.streams.video[0].frames\n",
        "\n",
        "    if fps_value is not None:\n",
        "        duration = frame_count / fps_value\n",
        "\n",
        "        print(\"FPS: \", fps_value)\n",
        "        print(\"Duration: \", duration)\n",
        "        print(\"Frames: \", frame_count)\n",
        "\n",
        "        tqdm.tqdm.set_lock(tqdm.tqdm.get_lock())\n",
        "        pbar_pyav = tqdm.tqdm(total=frame_count, ncols=100, position=0, leave=True)\n",
        "        for packet in video.demux():\n",
        "            for frame in packet.decode():\n",
        "                img = frame.to_ndarray(format='rgb24')\n",
        "                img = img.astype('uint8')  # преобразование к типу uint8\n",
        "                img_path = f\"/mnt/gdrive/MyDrive/color_input/frame{packet.pts:09d}.jpg\"\n",
        "                imageio.imwrite(img_path, img)\n",
        "                pbar_pyav.update(1)\n",
        "                time.sleep(float(delay))\n",
        "\n",
        "        pbar_pyav.close()\n",
        "        video.close()\n",
        "    else:\n",
        "        print(\"Error: FPS value is None.\")\n",
        "\n",
        "\n",
        "elif (library == \"imageio\"):\n",
        "    path = '/mnt/gdrive/MyDrive/'\n",
        "    full_path = os.path.join(path, file_name)\n",
        "\n",
        "    video = imageio.get_reader(full_path)\n",
        "\n",
        "    fps = video.get_meta_data()['fps']\n",
        "    frame_count = video.count_frames()\n",
        "    duration = frame_count / fps\n",
        "\n",
        "    print(\"FPS: \", fps)\n",
        "    print(\"Duration: \", duration)\n",
        "    print(\"Frames: \", frame_count)\n",
        "\n",
        "    tqdm.tqdm.set_lock(tqdm.tqdm.get_lock())\n",
        "    pbar_imageio = tqdm.tqdm(total=frame_count, ncols=100, position=0, leave=True)\n",
        "    for i, frame in enumerate(video):\n",
        "      img_path = f\"/mnt/gdrive/MyDrive/color_input/frame{i+1:09d}.jpg\"\n",
        "      if os.path.isfile(img_path):\n",
        "          pbar_imageio.update(1)\n",
        "          continue\n",
        "      while True:\n",
        "          try:\n",
        "              imageio.imwrite(img_path, frame)\n",
        "          except Exception as e:\n",
        "              print(f\"Error writing to disk: {str(e)}. Retrying...\")\n",
        "              continue\n",
        "          break\n",
        "      pbar_imageio.update(1)\n",
        "      time.sleep(float(delay))\n",
        "\n",
        "    pbar_imageio.close()\n",
        "    video.close()\n",
        "\n",
        "elif (library == \"ffmpeg\"):\n",
        "    !pip install ffmpeg-python\n",
        "    import ffmpeg\n",
        "    path = '/mnt/gdrive/MyDrive/'\n",
        "    full_path = os.path.join(path, file_name)\n",
        "\n",
        "    probe = ffmpeg.probe(full_path)\n",
        "    video_info = next(stream for stream in probe['streams'] if stream['codec_type'] == 'video')\n",
        "    fps = video_info['r_frame_rate']\n",
        "    duration = float(video_info['duration'])\n",
        "    frame_count = int(video_info['nb_frames'])\n",
        "\n",
        "    print(\"FPS: \", fps)\n",
        "    print(\"Duration: \", duration)\n",
        "    print(\"Frames: \", frame_count)\n",
        "\n",
        "    pbar_ffmpeg = tqdm.tqdm(total=frame_count, ncols=100, position=0, leave=True)\n",
        "    process = (\n",
        "        ffmpeg\n",
        "        .input(full_path)\n",
        "        .output('pipe:', format='rawvideo', pix_fmt='rgb24', qscale=0)\n",
        "        .run_async(pipe_stdout=True)\n",
        "    )\n",
        "\n",
        "    for i in range(frame_count):\n",
        "        try:\n",
        "            raw_video = process.stdout.read(video_info['width'] * video_info['height'] * 3)\n",
        "            frame = np.frombuffer(raw_video, dtype='uint8').reshape((video_info['height'], video_info['width'], 3))\n",
        "            frame_path = f\"/mnt/gdrive/MyDrive/color_input/frame{i:09d}.jpg\"\n",
        "            if os.path.isfile(frame_path):\n",
        "              pbar_ffmpeg.update(1)\n",
        "              continue\n",
        "            imageio.imwrite(frame_path, frame)\n",
        "        except Exception as e:\n",
        "            print(f\"Error writing to disk: {str(e)}. Retrying...\")\n",
        "            continue\n",
        "        pbar_ffmpeg.update(1)\n",
        "        time.sleep(float(delay))\n",
        "\n",
        "    pbar_ffmpeg.close()\n",
        "    process.wait()\n",
        "elif (library == \"skvideo\"):\n",
        "    !pip install scikit-video\n",
        "    import skvideo.io\n",
        "    path = '/mnt/gdrive/MyDrive/'\n",
        "    full_path = os.path.join(path, file_name)\n",
        "\n",
        "    video = skvideo.io.vread(full_path)\n",
        "\n",
        "    fps_str = skvideo.io.ffprobe(full_path)['video']['@avg_frame_rate']\n",
        "    fps_parts = fps_str.split('/')\n",
        "    fps = int(fps_parts[0]) / int(fps_parts[1])\n",
        "    frame_count = len(video)\n",
        "    duration = frame_count / fps\n",
        "\n",
        "    print(\"FPS: \", fps)\n",
        "    print(\"Duration: \", duration)\n",
        "    print(\"Frames: \", frame_count)\n",
        "\n",
        "    tqdm.tqdm.set_lock(tqdm.tqdm.get_lock())\n",
        "    outputdict = {'-q:1': '1'}\n",
        "    pbar_skvideo = tqdm.tqdm(total=frame_count, ncols=100, position=0, leave=True)\n",
        "    for i, frame in enumerate(video):\n",
        "        while True:\n",
        "            try:\n",
        "                skvideo.io.vwrite(f\"/mnt/gdrive/MyDrive/color_input/frame{i:09d}.jpg\", frame, outputdict=outputdict)\n",
        "            except Exception as e:\n",
        "                print(f\"Error writing to disk: {str(e)}. Retrying...\")\n",
        "                continue\n",
        "            break\n",
        "        pbar_skvideo.update(1)\n",
        "        time.sleep(float(delay))\n",
        "\n",
        "    pbar_skvideo.close()\n",
        "\n",
        "elif (library == \"scipy\"):\n",
        "    import scipy.misc\n",
        "    import scipy.ndimage\n",
        "    \n",
        "    full_path = os.path.join(path, file_name)\n",
        "    video = imageio.get_reader(full_path)\n",
        "    fps_value = video.get_meta_data()['fps']\n",
        "    frame_count = video.get_length()\n",
        "\n",
        "    if fps_value is not None:\n",
        "        duration = frame_count / fps_value\n",
        "\n",
        "        print(\"FPS: \", fps_value)\n",
        "\n",
        "        tqdm.tqdm.set_lock(tqdm.tqdm.get_lock())\n",
        "        pbar_scipy = tqdm.tqdm(total=frame_count, ncols=100, position=0, leave=True)\n",
        "        for i, im in enumerate(video):\n",
        "            img_path = f\"/mnt/gdrive/MyDrive/color_input/frame{i+1:09d}.jpg\"\n",
        "            im = Image.fromarray(im)\n",
        "            im.save(img_path, quality=100)\n",
        "            pbar_scipy.update(1)\n",
        "            time.sleep(float(delay))\n",
        "\n",
        "        pbar_scipy.close()\n",
        "    else:\n",
        "        print(\"Error: FPS value is None.\")\n",
        "\n",
        "elif library == \"moviepy\":\n",
        "    from moviepy.editor import VideoFileClip\n",
        "    from PIL import Image\n",
        "    full_path = os.path.join(path, file_name)\n",
        "    video = VideoFileClip(full_path)\n",
        "    fps_value = video.fps\n",
        "    frame_count = int(video.duration * fps_value)\n",
        "\n",
        "    print(\"FPS: \", fps_value)\n",
        "\n",
        "    tqdm.tqdm.set_lock(tqdm.tqdm.get_lock())\n",
        "    pbar_moviepy = tqdm.tqdm(total=frame_count, ncols=100, position=0, leave=True)\n",
        "    for i, frame in enumerate(video.iter_frames()):\n",
        "        img_path = f\"/mnt/gdrive/MyDrive/color_input/frame{i+1:09d}.jpg\"\n",
        "        im = Image.fromarray(frame)\n",
        "        im.save(img_path, quality=100)\n",
        "        pbar_moviepy.update(1)\n",
        "        time.sleep(float(delay))\n",
        "\n",
        "    pbar_moviepy.close()"
      ],
      "metadata": {
        "id": "7Q_eCIAz-sNN"
      },
      "execution_count": null,
      "outputs": []
    },
    {
      "cell_type": "code",
      "metadata": {
        "id": "xccN7_1QU-ac"
      },
      "source": [
        "#@title ##**Инсталяция** { display-mode: \"form\" }\n",
        "!pip install -U torch==1.5 torchvision==0.6 -f https://download.pytorch.org/whl/cu101/torch_stable.html\n",
        "!pip install cython pyyaml==5.1\n",
        "!pip install -U 'git+https://github.com/cocodataset/cocoapi.git#subdirectory=PythonAPI'\n",
        "!pip install dominate==2.4.0\n",
        "!pip install detectron2==0.1.2 -f https://dl.fbaipublicfiles.com/detectron2/wheels/cu101/index.html\n",
        "!pip install torch torchvision\n",
        "!pip install cython\n",
        "!pip install 'git+https://github.com/facebookresearch/detectron2.git'"
      ],
      "execution_count": null,
      "outputs": []
    },
    {
      "cell_type": "code",
      "metadata": {
        "id": "UoxuluzJmbiC"
      },
      "source": [
        "#@title ##**Клонирование репозитория** { display-mode: \"form\" }\n",
        "!git clone https://github.com/ericsujw/InstColorization.git\n",
        "%cd /content/InstColorization"
      ],
      "execution_count": null,
      "outputs": []
    },
    {
      "cell_type": "code",
      "source": [
        "#@title ##**Копирование с гугл диска** { display-mode: \"form\" }\n",
        "import shutil\n",
        "import time\n",
        "input_dir_bbox = \"example_bbox\"\n",
        "\n",
        "if os.path.isdir(input_dir_bbox):\n",
        "    shutil.rmtree(input_dir_bbox)\n",
        "os.makedirs(input_dir_bbox)\n",
        "\n",
        "example_bbox_folder = \"/content/InstColorization/example\"\n",
        "input_bbox_folder = \"/mnt/gdrive/MyDrive/color_input\"\n",
        "\n",
        "if os.path.isdir(example_bbox_folder):\n",
        "    shutil.rmtree(example_bbox_folder)\n",
        "os.makedirs(example_bbox_folder)\n",
        "\n",
        "for file_name_image in os.listdir(input_bbox_folder):\n",
        "    input_path = os.path.join(input_bbox_folder, file_name_image)\n",
        "    output_path = os.path.join(example_bbox_folder, file_name_image)\n",
        "    success = False\n",
        "    while not success:\n",
        "        try:\n",
        "            shutil.copy(input_path, output_path)\n",
        "            success = True\n",
        "        except Exception as e:\n",
        "            print(f\"Error copying file {input_path} to {output_path}: {str(e)}\")\n",
        "            time.sleep(5) # wait 5 seconds before trying again\n"
      ],
      "metadata": {
        "id": "0NcgWI5OShSu"
      },
      "execution_count": null,
      "outputs": []
    },
    {
      "cell_type": "code",
      "metadata": {
        "id": "SRQme7UHnNMf"
      },
      "source": [
        "#@title ##**Загрузка модели** { display-mode: \"form\" }\n",
        "!gdown https://drive.google.com/uc?id=1Xb-DKAA9ibCVLqm8teKd1MWk6imjwTBh\n",
        "!unzip checkpoints.zip -d /content/InstColorization"
      ],
      "execution_count": null,
      "outputs": []
    },
    {
      "cell_type": "code",
      "metadata": {
        "id": "ngV-n2MbvvTZ"
      },
      "source": [
        "#@title ##**Обнаружение объектов** { display-mode: \"form\" }\n",
        "from os.path import join, isfile, isdir\n",
        "from os import listdir\n",
        "import os\n",
        "os.environ[\"CUDA_VISIBLE_DEVICES\"] = \"0\"\n",
        "from argparse import ArgumentParser\n",
        "\n",
        "\n",
        "\n",
        "import detectron2\n",
        "from detectron2.utils.logger import setup_logger\n",
        "setup_logger()\n",
        "\n",
        "import numpy as np\n",
        "import cv2\n",
        "\n",
        "# import some common detectron2 utilities\n",
        "from detectron2 import model_zoo\n",
        "from detectron2.engine import DefaultPredictor\n",
        "from detectron2.config import get_cfg\n",
        "\n",
        "import torch\n",
        "\n",
        "cfg = get_cfg()\n",
        "cfg.merge_from_file(model_zoo.get_config_file(\"COCO-InstanceSegmentation/mask_rcnn_X_101_32x8d_FPN_3x.yaml\"))\n",
        "cfg.MODEL.ROI_HEADS.SCORE_THRESH_TEST = 0.7\n",
        "cfg.MODEL.WEIGHTS = model_zoo.get_checkpoint_url(\"COCO-InstanceSegmentation/mask_rcnn_X_101_32x8d_FPN_3x.yaml\")\n",
        "predictor = DefaultPredictor(cfg)"
      ],
      "execution_count": null,
      "outputs": []
    },
    {
      "cell_type": "code",
      "metadata": {
        "id": "Y5RSCOwA4Cum"
      },
      "source": [
        "#@title ##**Создать папку** { display-mode: \"form\" }\n",
        "input_dir = \"example\"\n",
        "\n",
        "image_list = [f for f in listdir(input_dir) if isfile(join(input_dir, f))]\n",
        "output_npz_dir = \"{0}_bbox\".format(input_dir)\n",
        "if os.path.isdir(output_npz_dir) is False:\n",
        "    print('Create path: {0}'.format(output_npz_dir))\n",
        "    os.makedirs(output_npz_dir)"
      ],
      "execution_count": null,
      "outputs": []
    },
    {
      "cell_type": "code",
      "metadata": {
        "id": "60Z0uIQH4ztv"
      },
      "source": [
        "#@title ##**Установки входных данных и наполнение папки example_bbox** { display-mode: \"form\" }\n",
        "for image_path in image_list:\n",
        "    img = cv2.imread(join(input_dir, image_path))\n",
        "    lab_image = cv2.cvtColor(img, cv2.COLOR_BGR2LAB)\n",
        "    l_channel, a_channel, b_channel = cv2.split(lab_image)\n",
        "    l_stack = np.stack([l_channel, l_channel, l_channel], axis=2)\n",
        "    outputs = predictor(l_stack)\n",
        "    save_path = join(output_npz_dir, image_path.split('.')[0])\n",
        "    pred_bbox = outputs[\"instances\"].pred_boxes.to(torch.device('cpu')).tensor.numpy()\n",
        "    pred_scores = outputs[\"instances\"].scores.cpu().data.numpy()\n",
        "    np.savez(save_path, bbox = pred_bbox, scores = pred_scores)"
      ],
      "execution_count": null,
      "outputs": []
    },
    {
      "cell_type": "code",
      "metadata": {
        "id": "g80xLXzi9tOB"
      },
      "source": [
        "#@title ##**Установка библиотек** { display-mode: \"form\" }\n",
        "import sys\n",
        "import time\n",
        "from options.train_options import TestOptions\n",
        "from models import create_model\n",
        "\n",
        "import torch\n",
        "from tqdm import tqdm_notebook\n",
        "\n",
        "from fusion_dataset import Fusion_Testing_Dataset\n",
        "from util import util\n",
        "import multiprocessing\n",
        "multiprocessing.set_start_method('spawn', True)\n",
        "\n",
        "torch.backends.cudnn.benchmark = True\n",
        "\n",
        "sys.argv = [sys.argv[0]]\n",
        "opt = TestOptions().parse()"
      ],
      "execution_count": null,
      "outputs": []
    },
    {
      "cell_type": "code",
      "metadata": {
        "id": "KTWCeb2iEWFM"
      },
      "source": [
        "#@title ##**Создать папку для результатов** { display-mode: \"form\" }\n",
        "\n",
        "save_img_path = '/mnt/gdrive/MyDrive/color_output'\n",
        "if os.path.isdir(save_img_path) is False:\n",
        "    print('Create path: {0}'.format(save_img_path))\n",
        "    os.makedirs(save_img_path)\n",
        "opt.batch_size = 1\n",
        "dataset = Fusion_Testing_Dataset(opt, -1)\n",
        "dataset_loader = torch.utils.data.DataLoader(dataset, batch_size=opt.batch_size)\n",
        "\n",
        "dataset_size = len(dataset)\n",
        "print('#Testing images = %d' % dataset_size)\n",
        "!ls example_bbox"
      ],
      "execution_count": null,
      "outputs": []
    },
    {
      "cell_type": "code",
      "metadata": {
        "id": "kpw5UGUWImIq"
      },
      "source": [
        "#@title ##**Установить модель** { display-mode: \"form\" }\n",
        "model = create_model(opt)\n",
        "model.setup_to_test('coco_finetuned_mask_256_ffs')"
      ],
      "execution_count": null,
      "outputs": []
    },
    {
      "cell_type": "code",
      "metadata": {
        "id": "mwy1Tvh8Iuzm"
      },
      "source": [
        "#@title ##**Колоризация** { display-mode: \"form\" }\n",
        "count_empty = 0\n",
        "\n",
        "for data_raw in tqdm_notebook(dataset_loader):\n",
        "    data_raw['full_img'][0] = data_raw['full_img'][0].cuda()\n",
        "    if data_raw['empty_box'][0] == 0:\n",
        "        data_raw['cropped_img'][0] = data_raw['cropped_img'][0].cuda()\n",
        "        box_info = data_raw['box_info'][0]\n",
        "        box_info_2x = data_raw['box_info_2x'][0]\n",
        "        box_info_4x = data_raw['box_info_4x'][0]\n",
        "        box_info_8x = data_raw['box_info_8x'][0]\n",
        "        cropped_data = util.get_colorization_data(data_raw['cropped_img'], opt, ab_thresh=0, p=opt.sample_p)\n",
        "        full_img_data = util.get_colorization_data(data_raw['full_img'], opt, ab_thresh=0, p=opt.sample_p)\n",
        "        model.set_input(cropped_data)\n",
        "        model.set_fusion_input(full_img_data, [box_info, box_info_2x, box_info_4x, box_info_8x])\n",
        "        model.forward()\n",
        "    else:\n",
        "        count_empty += 1\n",
        "        full_img_data = util.get_colorization_data(data_raw['full_img'], opt, ab_thresh=0, p=opt.sample_p)\n",
        "        model.set_forward_without_box(full_img_data)\n",
        "    model.save_current_imgs(join(save_img_path, data_raw['file_id'][0] + '.png'))\n",
        "print('{0} images without bounding boxes'.format(count_empty))"
      ],
      "execution_count": null,
      "outputs": []
    },
    {
      "cell_type": "code",
      "source": [
        "#@title ##**Очистить папку результа** { display-mode: \"form\" }\n",
        "result_path = '/mnt/gdrive/MyDrive/color_output_results'\n",
        "if os.path.isdir(result_path):\n",
        "    shutil.rmtree(result_path)\n",
        "os.makedirs(result_path)"
      ],
      "metadata": {
        "id": "8Y3D8lviX56y"
      },
      "execution_count": null,
      "outputs": []
    },
    {
      "cell_type": "code",
      "metadata": {
        "id": "j1AI2ydNJ5yu"
      },
      "source": [
        "#@title ##**Запись результата секвенции** { display-mode: \"form\" }\n",
        "import os\n",
        "import cv2\n",
        "import numpy as np\n",
        "from google.colab.patches import cv2_imshow\n",
        "\n",
        "result_path = '/mnt/gdrive/MyDrive/color_output_results'\n",
        "\n",
        "# Получаем список всех файлов в папке 'examples'\n",
        "folder_path = '/content/InstColorization/example'\n",
        "img_name_list = [f[:-4] for f in os.listdir(folder_path) if f.endswith('.jpg')]\n",
        "\n",
        "for img_name in img_name_list:\n",
        "    img = cv2.imread(f'{folder_path}/{img_name}.jpg')\n",
        "    lab_image = cv2.cvtColor(img, cv2.COLOR_BGR2LAB)\n",
        "    l_channel, _, _ = cv2.split(lab_image)\n",
        "\n",
        "    img = cv2.imread(f'/mnt/gdrive/MyDrive/color_output/{img_name}.png')\n",
        "    if img is None:\n",
        "        print(f\"Image {img_name}.png not found or cannot be read.\")\n",
        "        continue\n",
        "\n",
        "    lab_image = cv2.cvtColor(img, cv2.COLOR_BGR2LAB)\n",
        "    _, a_pred, b_pred = cv2.split(lab_image)\n",
        "    a_pred = cv2.resize(a_pred, (l_channel.shape[1], l_channel.shape[0]))\n",
        "    b_pred = cv2.resize(b_pred, (l_channel.shape[1], l_channel.shape[0]))\n",
        "    gray_color = np.ones_like(a_pred) * 128\n",
        "\n",
        "    gray_image = cv2.cvtColor(np.stack([l_channel, gray_color, gray_color], 2), cv2.COLOR_LAB2BGR)\n",
        "    color_image = cv2.cvtColor(np.stack([l_channel, a_pred, b_pred], 2), cv2.COLOR_LAB2BGR)\n",
        "\n",
        "    #cv2.imwrite(f'/mnt/gdrive/MyDrive/color_output_results/{img_name}.jpg', color_image)\n",
        "    save_img_path = os.path.join(result_path, f'{img_name}.jpg')\n",
        "    cv2.imwrite(save_img_path, color_image)"
      ],
      "execution_count": null,
      "outputs": []
    },
    {
      "cell_type": "code",
      "source": [
        "#@title ##**Сборка видео** { display-mode: \"form\" }\n",
        "import cv2\n",
        "import os\n",
        "from tqdm.notebook import tqdm\n",
        "\n",
        "output_file = \"/mnt/gdrive/MyDrive/output.mp4\"\n",
        "path = '/mnt/gdrive/MyDrive/'\n",
        "\n",
        "full_path_file = os.path.join(path, file_name)\n",
        "print(file_name)\n",
        "print(full_path_file)\n",
        "\n",
        "\n",
        "cap = cv2.VideoCapture(full_path)\n",
        "#fps_of_video = int(cap.get(cv2.CAP_PROP_FPS))\n",
        "vid = imageio.get_reader(full_path_file, 'ffmpeg')\n",
        "fps_of_video = vid.get_meta_data()['fps']\n",
        "cap.release()\n",
        "print(fps_of_video)\n",
        "\n",
        "\n",
        "img_files = os.listdir(result_path)\n",
        "img_files.sort()\n",
        "\n",
        "frame = cv2.imread(os.path.join(result_path, img_files[0]))\n",
        "height, width, _ = frame.shape\n",
        "\n",
        "fourcc = cv2.VideoWriter_fourcc(*'mp4v')\n",
        "writer = cv2.VideoWriter(output_file, fourcc, fps_of_video, (width, height))\n",
        "\n",
        "for img_file in tqdm(img_files, desc='Сборка видео'):\n",
        "    img_path = os.path.join(result_path, img_file)\n",
        "    frame = cv2.imread(img_path)\n",
        "\n",
        "    writer.write(frame)\n",
        "\n",
        "writer.release()\n",
        "print('Сборка завершена')"
      ],
      "metadata": {
        "id": "P2sglRETWEgi"
      },
      "execution_count": null,
      "outputs": []
    }
  ]
}