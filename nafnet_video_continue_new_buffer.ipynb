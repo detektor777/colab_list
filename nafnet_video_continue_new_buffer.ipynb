{
  "cells": [
    {
      "cell_type": "markdown",
      "metadata": {
        "id": "YWhJj2RejiNg"
      },
      "source": [
        "\n",
        "Перейити в гугл диск и загрузить в корень диска файл \n",
        "\n",
        "https://drive.google.com/drive/ \n",
        "\n"
      ]
    },
    {
      "cell_type": "code",
      "source": [
        "#@title ##**Имя видео файла** { display-mode: \"form\" }\n",
        "file_name = input(\"Введите имя файла: \") or \"input.mp4\""
      ],
      "metadata": {
        "id": "UuS585zLeH2d"
      },
      "execution_count": null,
      "outputs": []
    },
    {
      "cell_type": "code",
      "execution_count": null,
      "metadata": {
        "id": "2PcII5fLdHnJ"
      },
      "outputs": [],
      "source": [
        "#@title ##**Проверка GPU** { display-mode: \"form\" }\n",
        "!nvidia-smi"
      ]
    },
    {
      "cell_type": "code",
      "execution_count": null,
      "metadata": {
        "id": "R-Y5auuvnnnT"
      },
      "outputs": [],
      "source": [
        "#@title ##**Клонирование репозитория** { display-mode: \"form\" }\n",
        "%cd /content\n",
        "\n",
        "!git clone https://github.com/megvii-research/NAFNet"
      ]
    },
    {
      "cell_type": "code",
      "execution_count": null,
      "metadata": {
        "id": "LScsvO3UppqT"
      },
      "outputs": [],
      "source": [
        "#@title ##**Установить библиотеку** { display-mode: \"form\" }\n",
        "%cd /content/NAFNet\n",
        "\n",
        "!pip install -r requirements.txt\n",
        "!pip install --upgrade --no-cache-dir gdown\n",
        "!python3 setup.py develop --no_cuda_ext"
      ]
    },
    {
      "cell_type": "code",
      "execution_count": null,
      "metadata": {
        "id": "o2lxptJeo6kr"
      },
      "outputs": [],
      "source": [
        "#@title ##**Импорт библиотеки** { display-mode: \"form\" }\n",
        "%cd /content/NAFNet\n",
        "\n",
        "import gdown\n",
        "\n",
        "import torch\n",
        "\n",
        "from basicsr.models import create_model\n",
        "from basicsr.utils import img2tensor as _img2tensor, tensor2img, imwrite\n",
        "from basicsr.utils.options import parse\n",
        "import numpy as np\n",
        "import cv2\n",
        "import matplotlib.pyplot as plt\n",
        "\n",
        "import os\n",
        "from google.colab import files\n",
        "import shutil\n",
        "import glob"
      ]
    },
    {
      "cell_type": "code",
      "execution_count": null,
      "metadata": {
        "id": "QYmO4couoYhz"
      },
      "outputs": [],
      "source": [
        "#@title ##**Скачать модель** { display-mode: \"form\" }\n",
        "%cd /content/NAFNet\n",
        "\n",
        "# Deblur\n",
        "if not os.path.exists(\"./experiments/pretrained_models/NAFNet-REDS-width64.pth\"):\n",
        "  gdown.download('https://drive.google.com/uc?id=14D4V4raNYIOhETfcuuLI3bGLB-OYIv6X', \"./experiments/pretrained_models/\", quiet=False)"
      ]
    },
    {
      "cell_type": "code",
      "source": [
        "#@title ##**Подключение к гугл диску** { display-mode: \"form\" }\n",
        "from google.colab import drive\n",
        "drive.mount('/mnt/gdrive')\n"
      ],
      "metadata": {
        "id": "aIP9nIXLUhl1"
      },
      "execution_count": null,
      "outputs": []
    },
    {
      "cell_type": "code",
      "execution_count": null,
      "metadata": {
        "id": "qx3u5RTYlaWW"
      },
      "outputs": [],
      "source": [
        "#@title ##**Создать папки для изображений** { display-mode: \"form\" }\n",
        "#если нужно продолжить предедущую обработку, то пропустите этот пункт\n",
        "\n",
        "%cd /content/NAFNet\n",
        "\n",
        "deblur_upload_folder = '/mnt/gdrive/MyDrive/deblur_input'\n",
        "deblur_result_folder = '/mnt/gdrive/MyDrive/deblur_output'\n",
        "\n",
        "if os.path.isdir(deblur_upload_folder):\n",
        "    shutil.rmtree(deblur_upload_folder)\n",
        "if os.path.isdir(deblur_result_folder):\n",
        "    shutil.rmtree(deblur_result_folder)\n",
        "os.makedirs(deblur_upload_folder)\n",
        "os.makedirs(deblur_result_folder)\n"
      ]
    },
    {
      "cell_type": "code",
      "source": [
        "#@title ##**Секвенция видео** { display-mode: \"form\" }\n",
        "#если нужно продолжить предедущую обработку, то пропустите этот пункт\n",
        "import os\n",
        "import time\n",
        "import cv2\n",
        "\n",
        "path = '/mnt/gdrive/MyDrive/'\n",
        "full_path = os.path.join(path, file_name)\n",
        "\n",
        "frames_of_video = int(cv2.VideoCapture(full_path).get(cv2.CAP_PROP_FRAME_COUNT))\n",
        "fps_of_video = int(cv2.VideoCapture(full_path).get(cv2.CAP_PROP_FPS))\n",
        "vidcap = cv2.VideoCapture(full_path)\n",
        "success, image = vidcap.read()\n",
        "count = 0\n",
        "success = True\n",
        "\n",
        "# создаем буфер для хранения кадров\n",
        "buffer = []\n",
        "while success:\n",
        "    buffer.append(image)\n",
        "    success, image = vidcap.read()\n",
        "    count += 1\n",
        "\n",
        "# записываем изображения из буфера в папку\n",
        "for i, image in enumerate(buffer):\n",
        "    cv2.imwrite(\"/mnt/gdrive/MyDrive/deblur_input/frame%09d.jpg\" % i, image)\n",
        "    time.sleep(1/fps_of_video)\n"
      ],
      "metadata": {
        "id": "mYumIEs2bsUh"
      },
      "execution_count": null,
      "outputs": []
    },
    {
      "cell_type": "code",
      "execution_count": null,
      "metadata": {
        "id": "b1WNTef3nG8-"
      },
      "outputs": [],
      "source": [
        "#@title ##**Определение функции** { display-mode: \"form\" }\n",
        "def imread(img_path):\n",
        "  img = cv2.imread(img_path)\n",
        "  img = cv2.cvtColor(img, cv2.COLOR_BGR2RGB)\n",
        "  return img\n",
        "def img2tensor(img, bgr2rgb=False, float32=True):\n",
        "    img = img.astype(np.float32) / 255.\n",
        "    return _img2tensor(img, bgr2rgb=bgr2rgb, float32=float32)\n",
        "\n",
        "def display(img1, img2):\n",
        "  fig = plt.figure(figsize=(25, 10))\n",
        "  ax1 = fig.add_subplot(1, 2, 1) \n",
        "  plt.title('Input image', fontsize=16)\n",
        "  ax1.axis('off')\n",
        "  ax2 = fig.add_subplot(1, 2, 2)\n",
        "  plt.title('NAFNet output', fontsize=16)\n",
        "  ax2.axis('off')\n",
        "  ax1.imshow(img1)\n",
        "  ax2.imshow(img2)\n",
        "\n",
        "def single_image_inference(model, img, save_path):\n",
        "      model.feed_data(data={'lq': img.unsqueeze(dim=0)})\n",
        "\n",
        "      if model.opt['val'].get('grids', False):\n",
        "          model.grids()\n",
        "\n",
        "      model.test()\n",
        "\n",
        "      if model.opt['val'].get('grids', False):\n",
        "          model.grids_inverse()\n",
        "\n",
        "      visuals = model.get_current_visuals()\n",
        "      sr_img = tensor2img([visuals['result']])\n",
        "      imwrite(sr_img, save_path)\n",
        "\n",
        "def sr_display(LR_l, LR_r, SR_l, SR_r):\n",
        "  h,w = SR_l.shape[:2]\n",
        "  LR_l = cv2.resize(LR_l, (w,h), interpolation=cv2.INTER_CUBIC)\n",
        "  LR_r = cv2.resize(LR_r, (w,h), interpolation=cv2.INTER_CUBIC)\n",
        "  fig = plt.figure(figsize=(w//40, h//40))\n",
        "  ax1 = fig.add_subplot(2, 2, 1) \n",
        "  plt.title('Input image (Left)', fontsize=16)\n",
        "  ax1.axis('off')\n",
        "  ax2 = fig.add_subplot(2, 2, 2)\n",
        "  plt.title('NAFSSR output (Left)', fontsize=16)\n",
        "  ax2.axis('off')\n",
        "  ax1.imshow(LR_l)\n",
        "  ax2.imshow(SR_l)\n",
        "\n",
        "  ax3 = fig.add_subplot(2, 2, 3) \n",
        "  plt.title('Input image (Right)', fontsize=16)\n",
        "  ax3.axis('off')\n",
        "  ax4 = fig.add_subplot(2, 2, 4)\n",
        "  plt.title('NAFSSR output (Right)', fontsize=16)\n",
        "  ax4.axis('off')\n",
        "  ax3.imshow(LR_r)\n",
        "  ax4.imshow(SR_r)\n",
        "\n",
        "  plt.subplots_adjust(wspace=0.04, hspace=0.04)\n",
        "\n",
        "def stereo_image_inference(model, img_l, img_r, save_path):\n",
        "      img = torch.cat([img_l, img_r], dim=0)\n",
        "      model.feed_data(data={'lq': img.unsqueeze(dim=0)})\n",
        "\n",
        "      if model.opt['val'].get('grids', False):\n",
        "          model.grids()\n",
        "\n",
        "      model.test()\n",
        "\n",
        "      if model.opt['val'].get('grids', False):\n",
        "          model.grids_inverse()\n",
        "\n",
        "      visuals = model.get_current_visuals()\n",
        "      img_L = visuals['result'][:,:3]\n",
        "      img_R = visuals['result'][:,3:]\n",
        "      img_L, img_R = tensor2img([img_L, img_R])\n",
        "      \n",
        "      imwrite(img_L, save_path.format('L'))\n",
        "      imwrite(img_R, save_path.format('R'))\n"
      ]
    },
    {
      "cell_type": "code",
      "execution_count": null,
      "metadata": {
        "id": "EyioFk8RkrG5"
      },
      "outputs": [],
      "source": [
        "#@title ##**Построить модель** { display-mode: \"form\" }\n",
        "%cd /content/NAFNet\n",
        "\n",
        "opt_path = 'options/test/REDS/NAFNet-width64.yml'\n",
        "opt = parse(opt_path, is_train=False)\n",
        "opt['dist'] = False\n",
        "NAFNet = create_model(opt)"
      ]
    },
    {
      "cell_type": "code",
      "execution_count": null,
      "metadata": {
        "id": "ZuUrJCd6lrnu"
      },
      "outputs": [],
      "source": [
        "#@title ##**Deblur изображений** { display-mode: \"form\" }\n",
        "%cd /content/NAFNet\n",
        "import glob\n",
        "import os\n",
        "import time\n",
        "from tqdm import tqdm\n",
        "\n",
        "deblur_upload_folder = '/mnt/gdrive/MyDrive/deblur_input'\n",
        "deblur_result_folder = '/mnt/gdrive/MyDrive/deblur_output'\n",
        "\n",
        "\n",
        "\n",
        "upload_files = set()\n",
        "while not upload_files:\n",
        "    try:\n",
        "        upload_files = set(os.listdir(deblur_upload_folder))\n",
        "    except OSError as e:\n",
        "        print(f\"Error: {e}, retrying...\")\n",
        "        time.sleep(2)\n",
        "\n",
        "result_files = set(os.listdir(deblur_result_folder))\n",
        "\n",
        "input_list = [file_path for file_path in glob.glob(os.path.join(deblur_upload_folder, '*'))\n",
        "              if os.path.basename(file_path) not in result_files and os.path.basename(file_path) in upload_files]\n",
        "\n",
        "\n",
        "for input_path in tqdm(input_list, desc=\"Processing images\"):\n",
        "    img_input = imread(input_path)\n",
        "    inp = img2tensor(img_input)\n",
        "    output_path = os.path.join(deblur_result_folder, os.path.basename(input_path))\n",
        "    single_image_inference(NAFNet, inp, output_path)\n",
        "\n",
        "output_list = sorted(glob.glob(os.path.join(deblur_result_folder, '*')))\n",
        "for input_path, output_path in tqdm(zip(input_list, output_list), desc=\"Loading images\"):\n",
        "    img_input = imread(input_path)\n",
        "    img_output = imread(output_path)"
      ]
    },
    {
      "cell_type": "code",
      "source": [
        "#@title ##**Сборка видео** { display-mode: \"form\" }\n",
        "import cv2\n",
        "import os\n",
        "from tqdm.notebook import tqdm\n",
        "\n",
        "output_file = \"/mnt/gdrive/MyDrive/output.mp4\"\n",
        "path = '/mnt/gdrive/MyDrive/'\n",
        "\n",
        "full_path = os.path.join(path, file_name)\n",
        "\n",
        "cap = cv2.VideoCapture(full_path)\n",
        "fps_of_video = int(cap.get(cv2.CAP_PROP_FPS))\n",
        "cap.release()\n",
        "\n",
        "img_files = os.listdir(deblur_result_folder)\n",
        "img_files.sort()\n",
        "\n",
        "frame = cv2.imread(os.path.join(deblur_result_folder, img_files[0]))\n",
        "height, width, _ = frame.shape\n",
        "\n",
        "fourcc = cv2.VideoWriter_fourcc(*'mp4v')\n",
        "writer = cv2.VideoWriter(output_file, fourcc, fps_of_video, (width, height))\n",
        "\n",
        "for img_file in tqdm(img_files, desc='Сборка видео'):\n",
        "    img_path = os.path.join(deblur_result_folder, img_file)\n",
        "    frame = cv2.imread(img_path)\n",
        "\n",
        "    writer.write(frame)\n",
        "\n",
        "writer.release()\n",
        "print('Сборка завершена')"
      ],
      "metadata": {
        "id": "gz_exRpbdixx"
      },
      "execution_count": null,
      "outputs": []
    },
    {
      "cell_type": "code",
      "source": [
        "#@title ##**Добавление звука** { display-mode: \"form\" }\n",
        "video = VideoFileClip(output_file)\n",
        "\n",
        "audio = AudioFileClip(full_path)\n",
        "\n",
        "video = video.set_audio(audio)\n",
        "\n",
        "video.write_videofile('/mnt/gdrive/MyDrive/output_with_audio.mp4')\n"
      ],
      "metadata": {
        "id": "I0TPS6oYq69r"
      },
      "execution_count": null,
      "outputs": []
    },
    {
      "cell_type": "code",
      "source": [
        "#@title ##**Скачать файл (опционально, быстерее можно скачать в гугл диске)** { display-mode: \"form\" }\n",
        "from google.colab import files\n",
        "files.download('/mnt/gdrive/MyDrive/output_with_audio.mp4')"
      ],
      "metadata": {
        "id": "pSLOneGEsPpi"
      },
      "execution_count": null,
      "outputs": []
    }
  ],
  "metadata": {
    "accelerator": "GPU",
    "colab": {
      "provenance": []
    },
    "kernelspec": {
      "display_name": "Python 3",
      "name": "python3"
    },
    "language_info": {
      "name": "python"
    },
    "orig_nbformat": 4
  },
  "nbformat": 4,
  "nbformat_minor": 0
}