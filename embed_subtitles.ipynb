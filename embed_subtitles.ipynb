{
  "nbformat": 4,
  "nbformat_minor": 0,
  "metadata": {
    "colab": {
      "provenance": [],
      "authorship_tag": "ABX9TyP0lEfPudjkSFp0UJmvkKJL",
      "include_colab_link": true
    },
    "kernelspec": {
      "name": "python3",
      "display_name": "Python 3"
    },
    "language_info": {
      "name": "python"
    }
  },
  "cells": [
    {
      "cell_type": "markdown",
      "metadata": {
        "id": "view-in-github",
        "colab_type": "text"
      },
      "source": [
        "<a href=\"https://colab.research.google.com/github/detektor777/colab_list/blob/main/embed_subtitles.ipynb\" target=\"_parent\"><img src=\"https://colab.research.google.com/assets/colab-badge.svg\" alt=\"Open In Colab\"/></a>"
      ]
    },
    {
      "cell_type": "markdown",
      "source": [
        "Go to Google Drive and upload the video file to the root of the drive\n",
        "\n",
        "https://drive.google.com/drive/\n"
      ],
      "metadata": {
        "id": "_j6UfA0VueFi"
      }
    },
    {
      "cell_type": "code",
      "execution_count": null,
      "metadata": {
        "id": "1ET7zxncuSl2"
      },
      "outputs": [],
      "source": [
        "#@title ##**Enter video file name** { display-mode: \"form\" }\n",
        "from google.colab import files\n",
        "inptut = input(\"Enter the file name and press enter (default: input.mp4) \") or \"input.mp4\"\n",
        "video_filename = f\"/content/drive/MyDrive/{inptut}\"\n",
        "file_name, file_extension = inptut.rsplit('.', 1)"
      ]
    },
    {
      "cell_type": "code",
      "source": [
        "#@title ##**Connecting to Google Drive** { display-mode: \"form\" }\n",
        "from google.colab import drive\n",
        "\n",
        "drive.mount('/content/drive')\n",
        "!cp \"{output_filename}\" \"/content/drive/My Drive/\""
      ],
      "metadata": {
        "id": "330KUUv_umux"
      },
      "execution_count": null,
      "outputs": []
    },
    {
      "cell_type": "code",
      "source": [
        "#@title ##**Install** { display-mode: \"form\" }\n",
        "!apt-get install -y ffmpeg > /dev/null 2>&1\n",
        "!pip install chardet"
      ],
      "metadata": {
        "id": "QZHyDXVMupmz"
      },
      "execution_count": null,
      "outputs": []
    },
    {
      "cell_type": "code",
      "source": [
        "#@title ##**Upload subtitles** { display-mode: \"form\" }\n",
        "print(\"Please upload the subtitle file for the video\")\n",
        "uploaded_subtitles = files.upload()\n",
        "\n",
        "subtitle_filename = next(iter(uploaded_subtitles))\n",
        "print(f\"Subtitle file '{subtitle_filename}' downloaded successfully\")"
      ],
      "metadata": {
        "id": "rvhfnJtzutDv"
      },
      "execution_count": null,
      "outputs": []
    },
    {
      "cell_type": "code",
      "source": [
        "#@title ##**Run** { display-mode: \"form\" }\n",
        "\n",
        "import subprocess\n",
        "import re\n",
        "import os\n",
        "import chardet\n",
        "\n",
        "# Paths to files\n",
        "output_filename = f\"/content/drive/MyDrive/{file_name}output.{file_extension}\"\n",
        "\n",
        "# Detect file encoding\n",
        "def detect_encoding(file_path):\n",
        "    with open(file_path, 'rb') as f:\n",
        "        raw_data = f.read()\n",
        "    result = chardet.detect(raw_data)\n",
        "    return result['encoding']\n",
        "\n",
        "# Get video duration using ffmpeg\n",
        "def get_video_duration(video_file):\n",
        "    result = subprocess.run(\n",
        "        [\"ffmpeg\", \"-i\", video_file],\n",
        "        stderr=subprocess.PIPE, stdout=subprocess.PIPE, text=True\n",
        "    )\n",
        "    duration_match = re.search(r\"Duration: (\\d+):(\\d+):(\\d+).(\\d+)\", result.stderr)\n",
        "    if duration_match:\n",
        "        hours, minutes, seconds, _ = map(int, duration_match.groups())\n",
        "        return hours * 3600 + minutes * 60 + seconds\n",
        "    return None\n",
        "\n",
        "# Add subtitles with automatic encoding detection and show progress\n",
        "def add_subtitles_with_progress(video_filename, subtitle_filename, output_filename):\n",
        "    total_duration = get_video_duration(video_filename)\n",
        "    if total_duration is None:\n",
        "        print(\"Failed to get video duration.\")\n",
        "        return\n",
        "\n",
        "    # Detect subtitle encoding\n",
        "    subtitle_encoding = detect_encoding(subtitle_filename)\n",
        "    print(f\"Detected subtitle encoding: {subtitle_encoding}\")\n",
        "\n",
        "    # Pass encoding to ffmpeg command\n",
        "    process = subprocess.Popen(\n",
        "        [\"ffmpeg\", \"-i\", video_filename, \"-vf\", f\"subtitles={subtitle_filename}:charenc={subtitle_encoding}\", output_filename, \"-y\"],\n",
        "        stderr=subprocess.PIPE, stdout=subprocess.PIPE, text=True\n",
        "    )\n",
        "\n",
        "    time_pattern = re.compile(r'time=(\\d+):(\\d+):(\\d+).(\\d+)')\n",
        "\n",
        "    while True:\n",
        "        line = process.stderr.readline()\n",
        "        if not line:\n",
        "            break\n",
        "        match = time_pattern.search(line)\n",
        "        if match:\n",
        "            hours, minutes, seconds, _ = map(int, match.groups())\n",
        "            current_time = hours * 3600 + minutes * 60 + seconds\n",
        "            progress = (current_time / total_duration) * 100\n",
        "            # Use '\\r' to overwrite the progress line\n",
        "            print(f\"\\rProgress: {progress:.2f}%\", end=\"\")\n",
        "\n",
        "    process.wait()\n",
        "    print(\"\\nProcessing complete.\")\n",
        "    print(f\"The processed video is saved as '{output_filename}'.\")\n",
        "\n",
        "\n",
        "# Run\n",
        "add_subtitles_with_progress(video_filename, subtitle_filename, output_filename)\n"
      ],
      "metadata": {
        "id": "kYiUXWKAu59W"
      },
      "execution_count": null,
      "outputs": []
    },
    {
      "cell_type": "code",
      "source": [
        "#@title ##**Download video** { display-mode: \"form\" }\n",
        "from google.colab import files\n",
        "\n",
        "files.download(output_filename)"
      ],
      "metadata": {
        "id": "WOh9t4aKu-AF"
      },
      "execution_count": null,
      "outputs": []
    }
  ]
}