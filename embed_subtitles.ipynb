{
  "nbformat": 4,
  "nbformat_minor": 0,
  "metadata": {
    "colab": {
      "provenance": [],
      "authorship_tag": "ABX9TyO57rCle778PAhkdBt28KUF",
      "include_colab_link": true
    },
    "kernelspec": {
      "name": "python3",
      "display_name": "Python 3"
    },
    "language_info": {
      "name": "python"
    }
  },
  "cells": [
    {
      "cell_type": "markdown",
      "metadata": {
        "id": "view-in-github",
        "colab_type": "text"
      },
      "source": [
        "<a href=\"https://colab.research.google.com/github/detektor777/colab_list/blob/main/embed_subtitles.ipynb\" target=\"_parent\"><img src=\"https://colab.research.google.com/assets/colab-badge.svg\" alt=\"Open In Colab\"/></a>"
      ]
    },
    {
      "cell_type": "markdown",
      "source": [
        "Go to Google Drive and upload the video file to the root of the drive\n",
        "\n",
        "https://drive.google.com/drive/\n"
      ],
      "metadata": {
        "id": "_j6UfA0VueFi"
      }
    },
    {
      "cell_type": "code",
      "execution_count": null,
      "metadata": {
        "id": "1ET7zxncuSl2"
      },
      "outputs": [],
      "source": [
        "#@title ##**Enter video file name** { display-mode: \"form\" }\n",
        "inptut = input(\"Enter the file name and press enter (default: input.mp4) \") or \"input.mp4\"\n",
        "video_filename = f\"/content/drive/MyDrive/{inptut}\""
      ]
    },
    {
      "cell_type": "code",
      "source": [
        "#@title ##**Connecting to Google Drive** { display-mode: \"form\" }\n",
        "from google.colab import drive\n",
        "\n",
        "drive.mount('/content/drive')\n",
        "!cp \"{output_filename}\" \"/content/drive/My Drive/\""
      ],
      "metadata": {
        "id": "330KUUv_umux"
      },
      "execution_count": null,
      "outputs": []
    },
    {
      "cell_type": "code",
      "source": [
        "#@title ##**Install** { display-mode: \"form\" }\n",
        "!apt-get install -y ffmpeg > /dev/null 2>&1"
      ],
      "metadata": {
        "id": "QZHyDXVMupmz"
      },
      "execution_count": null,
      "outputs": []
    },
    {
      "cell_type": "code",
      "source": [
        "#@title ##**Upload subtitles** { display-mode: \"form\" }\n",
        "print(\"Please upload the subtitle file for the video\")\n",
        "uploaded_subtitles = files.upload()\n",
        "\n",
        "subtitle_filename = next(iter(uploaded_subtitles))\n",
        "print(f\"Subtitle file '{subtitle_filename}' downloaded successfully\")"
      ],
      "metadata": {
        "id": "rvhfnJtzutDv"
      },
      "execution_count": null,
      "outputs": []
    },
    {
      "cell_type": "code",
      "source": [
        "#@title ##**Run** { display-mode: \"form\" }\n",
        "\n",
        "output_filename = \"/content/drive/MyDrive/video_with_subtitles.mp4\"\n",
        "\n",
        "!ffmpeg -i \"{video_filename}\" -vf \"subtitles={subtitle_filename}\" \"{output_filename}\" -y\n",
        "\n",
        "print(f\"The processed video is saved as '{output_filename}'.\")"
      ],
      "metadata": {
        "id": "kYiUXWKAu59W"
      },
      "execution_count": null,
      "outputs": []
    },
    {
      "cell_type": "code",
      "source": [
        "#@title ##**Download video** { display-mode: \"form\" }\n",
        "from google.colab import files\n",
        "\n",
        "files.download(output_filename)"
      ],
      "metadata": {
        "id": "WOh9t4aKu-AF"
      },
      "execution_count": null,
      "outputs": []
    }
  ]
}