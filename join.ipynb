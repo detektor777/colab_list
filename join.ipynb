{
  "nbformat": 4,
  "nbformat_minor": 0,
  "metadata": {
    "colab": {
      "provenance": [],
      "authorship_tag": "ABX9TyOWdSb6OMUNcrpIgNH65fdE",
      "include_colab_link": true
    },
    "kernelspec": {
      "name": "python3",
      "display_name": "Python 3"
    },
    "language_info": {
      "name": "python"
    }
  },
  "cells": [
    {
      "cell_type": "markdown",
      "metadata": {
        "id": "view-in-github",
        "colab_type": "text"
      },
      "source": [
        "<a href=\"https://colab.research.google.com/github/detektor777/colab_list/blob/main/join.ipynb\" target=\"_parent\"><img src=\"https://colab.research.google.com/assets/colab-badge.svg\" alt=\"Open In Colab\"/></a>"
      ]
    },
    {
      "cell_type": "markdown",
      "source": [
        "Go to Google Drive and upload video files to the folder\n",
        "\n",
        "https://drive.google.com/drive/"
      ],
      "metadata": {
        "id": "TZDiJ0wZ1eeZ"
      }
    },
    {
      "cell_type": "code",
      "source": [
        "#@title ##**Connecting to Google Drive** { display-mode: \"form\" }\n",
        "from google.colab import drive\n",
        "drive.mount('/content/drive')"
      ],
      "metadata": {
        "id": "bIaRN1Bd2no5"
      },
      "execution_count": null,
      "outputs": []
    },
    {
      "cell_type": "code",
      "source": [
        "#@title ##**Enter foder name** { display-mode: \"form\" }\n",
        "\n",
        "import os\n",
        "\n",
        "folder_name = input('Enter the name of the folder on Google Drive where the video files are located: ')\n",
        "\n"
      ],
      "metadata": {
        "id": "EAJGF4Nw1gUY"
      },
      "execution_count": null,
      "outputs": []
    },
    {
      "cell_type": "code",
      "source": [
        "#@title ##**Install** { display-mode: \"form\" }\n",
        "!apt-get install ffmpeg\n",
        "!pip install moviepy"
      ],
      "metadata": {
        "id": "sX5tl9dF3PQw"
      },
      "execution_count": null,
      "outputs": []
    },
    {
      "cell_type": "code",
      "source": [
        "#@title ##**Run** { display-mode: \"form\" }\n",
        "import os\n",
        "import subprocess\n",
        "from moviepy.editor import VideoFileClip\n",
        "\n",
        "# Define the path to the folder with video files\n",
        "folder_path = os.path.join('/content/drive/MyDrive', folder_name)\n",
        "\n",
        "# Check if the folder exists\n",
        "if not os.path.exists(folder_path):\n",
        "    raise FileNotFoundError(f\"The folder '{folder_name}' does not exist in your Google Drive.\")\n",
        "\n",
        "# Get a list of video files in the folder, sorted alphabetically\n",
        "video_extensions = ['.mp4', '.mov', '.avi', '.mkv']\n",
        "video_files = [f for f in sorted(os.listdir(folder_path)) if os.path.splitext(f)[1].lower() in video_extensions]\n",
        "\n",
        "if not video_files:\n",
        "    raise FileNotFoundError(\"No video files found in the specified folder.\")\n",
        "\n",
        "print(\"Video files to be processed:\")\n",
        "for idx, video_file in enumerate(video_files, 1):\n",
        "    print(f\"{idx}. {video_file}\")\n",
        "\n",
        "# Determine the output resolution based on the video with the largest width\n",
        "max_width = 0\n",
        "output_width = 0\n",
        "output_height = 0\n",
        "for video_file in video_files:\n",
        "    video_path = os.path.join(folder_path, video_file)\n",
        "    try:\n",
        "        clip = VideoFileClip(video_path)\n",
        "        width, height = clip.size\n",
        "        if width > max_width:\n",
        "            max_width = width\n",
        "            output_width = width\n",
        "            output_height = height\n",
        "        clip.close()\n",
        "    except Exception as e:\n",
        "        print(f\"Error processing file {video_file}: {e}\")\n",
        "        raise\n",
        "\n",
        "print(f\"\\nOutput resolution determined: {output_width}x{output_height}\")\n",
        "\n",
        "# Create a temporary directory to store processed videos\n",
        "temp_folder = '/content/temp_videos'\n",
        "os.makedirs(temp_folder, exist_ok=True)\n",
        "\n",
        "# Process each video file\n",
        "print(\"\\nProcessing video files:\")\n",
        "for idx, video_file in enumerate(video_files, 1):\n",
        "    input_video_path = os.path.join(folder_path, video_file)\n",
        "    temp_video_path = os.path.join(temp_folder, f'part{idx:03d}.mp4')\n",
        "\n",
        "    print(f\"Processing {idx}/{len(video_files)}: {video_file}\")\n",
        "\n",
        "    # Get the original dimensions\n",
        "    clip = VideoFileClip(input_video_path)\n",
        "    width, height = clip.size\n",
        "    clip.close()\n",
        "\n",
        "    # Calculate the scale factor to match the output height\n",
        "    scale_factor = output_height / height\n",
        "    new_width = int(width * scale_factor)\n",
        "    new_height = output_height\n",
        "\n",
        "    # Prepare the ffmpeg video filter (vf) options\n",
        "    if new_width < output_width:\n",
        "        # Pad black bars on the sides\n",
        "        pad_width = (output_width - new_width) // 2\n",
        "        vf_filter = f\"scale={new_width}:{new_height},pad={output_width}:{output_height}:{pad_width}:0:black\"\n",
        "    elif new_width > output_width:\n",
        "        # Crop the sides\n",
        "        crop_start_x = (new_width - output_width) // 2\n",
        "        vf_filter = f\"scale={new_width}:{new_height},crop={output_width}:{output_height}:{crop_start_x}:0\"\n",
        "    else:\n",
        "        # No padding or cropping needed\n",
        "        vf_filter = f\"scale={new_width}:{new_height}\"\n",
        "\n",
        "    # Build the ffmpeg command\n",
        "    command = [\n",
        "        'ffmpeg', '-y', '-i', input_video_path,\n",
        "        '-vf', vf_filter,\n",
        "        '-c:v', 'libx264', '-preset', 'fast', '-crf', '18',\n",
        "        '-c:a', 'aac', '-b:a', '192k',\n",
        "        temp_video_path\n",
        "    ]\n",
        "\n",
        "    # Run the ffmpeg command\n",
        "    result = subprocess.run(command, stdout=subprocess.PIPE, stderr=subprocess.PIPE)\n",
        "    if result.returncode != 0:\n",
        "        error_message = result.stderr.decode()\n",
        "        print(f\"Error processing file {video_file}:\\n{error_message}\")\n",
        "        raise RuntimeError(f\"FFmpeg error: {error_message}\")\n",
        "    else:\n",
        "        print(f\"Successfully processed {video_file}\")\n",
        "\n",
        "print(\"\\nAll video files have been processed.\")\n",
        "\n",
        "# Create a text file listing the processed videos for concatenation\n",
        "concat_list_path = '/content/concat_list.txt'\n",
        "with open(concat_list_path, 'w') as f:\n",
        "    for idx in range(1, len(video_files) + 1):\n",
        "        temp_video_path = os.path.join(temp_folder, f'part{idx:03d}.mp4')\n",
        "        f.write(f\"file '{temp_video_path}'\\n\")\n",
        "\n",
        "# Merge the videos\n",
        "print(\"\\nMerging video files...\")\n",
        "output_video_path = '/content/drive/MyDrive/merged_video.mp4'\n",
        "\n",
        "# Use ffmpeg to concatenate videos\n",
        "merge_command = [\n",
        "    'ffmpeg', '-y', '-f', 'concat', '-safe', '0', '-i', concat_list_path,\n",
        "    '-c:v', 'copy', '-c:a', 'copy',\n",
        "    output_video_path\n",
        "]\n",
        "\n",
        "result = subprocess.run(merge_command, stdout=subprocess.PIPE, stderr=subprocess.PIPE)\n",
        "if result.returncode != 0:\n",
        "    error_message = result.stderr.decode()\n",
        "    print(f\"Error merging videos:\\n{error_message}\")\n",
        "    # If copying codecs fails due to codec differences, re-encode during merging\n",
        "    print(\"Attempting to merge with re-encoding...\")\n",
        "    merge_command = [\n",
        "        'ffmpeg', '-y', '-f', 'concat', '-safe', '0', '-i', concat_list_path,\n",
        "        '-c:v', 'libx264', '-preset', 'fast', '-crf', '18',\n",
        "        '-c:a', 'aac', '-b:a', '192k',\n",
        "        output_video_path\n",
        "    ]\n",
        "    result = subprocess.run(merge_command, stdout=subprocess.PIPE, stderr=subprocess.PIPE)\n",
        "    if result.returncode != 0:\n",
        "        error_message = result.stderr.decode()\n",
        "        print(f\"Error merging videos with re-encoding:\\n{error_message}\")\n",
        "        raise RuntimeError(f\"FFmpeg merge error: {error_message}\")\n",
        "    else:\n",
        "        print(\"Videos merged successfully with re-encoding.\")\n",
        "else:\n",
        "    print(\"Videos merged successfully.\")\n",
        "\n",
        "print(f\"\\nMerged video saved to Google Drive as 'merged_video.mp4'\")"
      ],
      "metadata": {
        "id": "dHC04wolVnKV"
      },
      "execution_count": null,
      "outputs": []
    },
    {
      "cell_type": "code",
      "source": [
        "#@title ##**Download video** { display-mode: \"form\" }\n",
        "import shutil\n",
        "shutil.copy(output_video_path, '/content/merged_video.mp4')\n",
        "\n",
        "from google.colab import files\n",
        "files.download('/content/merged_video.mp4')"
      ],
      "metadata": {
        "id": "EiIHREWX38SJ"
      },
      "execution_count": null,
      "outputs": []
    }
  ]
}