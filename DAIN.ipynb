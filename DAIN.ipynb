{
  "nbformat": 4,
  "nbformat_minor": 0,
  "metadata": {
    "colab": {
      "provenance": [],
      "include_colab_link": true
    },
    "kernelspec": {
      "name": "python3",
      "display_name": "Python 3"
    },
    "accelerator": "GPU"
  },
  "cells": [
    {
      "cell_type": "markdown",
      "metadata": {
        "id": "view-in-github",
        "colab_type": "text"
      },
      "source": [
        "<a href=\"https://colab.research.google.com/github/detektor777/colab_list/blob/main/DAIN.ipynb\" target=\"_parent\"><img src=\"https://colab.research.google.com/assets/colab-badge.svg\" alt=\"Open In Colab\"/></a>"
      ]
    },
    {
      "cell_type": "markdown",
      "metadata": {
        "id": "CFu-yffDqCx0"
      },
      "source": [
        "Перейити в гугл диск и загрузить в корень диска файл\n",
        "\n",
        "https://drive.google.com/drive/"
      ]
    },
    {
      "cell_type": "code",
      "source": [
        "#@title ##**Имя видео файла** { display-mode: \"form\" }\n",
        "file_name = input(\"Введите имя файла: \") or \"input.mp4\""
      ],
      "metadata": {
        "id": "u6KwWmKOOlIy"
      },
      "execution_count": null,
      "outputs": []
    },
    {
      "cell_type": "code",
      "metadata": {
        "id": "SFjkPLsOedxo"
      },
      "source": [
        "#@title ##**Проверка GPU** { display-mode: \"form\" }\n",
        "!nvidia-smi"
      ],
      "execution_count": null,
      "outputs": []
    },
    {
      "cell_type": "code",
      "metadata": {
        "id": "91_xVVY4dwyQ"
      },
      "source": [
        "#@title ##**Подключение к гугл диску** { display-mode: \"form\" }\n",
        "from google.colab import drive\n",
        "drive.mount('/mnt/gdrive')\n"
      ],
      "execution_count": null,
      "outputs": []
    },
    {
      "cell_type": "code",
      "source": [
        "#@title ##**Установка библиотек** { display-mode: \"form\" }\n",
        "!pip install torch\n",
        "!pip install torchvision\n",
        "!pip install scipy\n",
        "!pip install Pillow\n",
        "!pip install requests\n",
        "!pip install apex\n",
        "!pip install pyramid\n",
        "!pip install zope.interface\n",
        "!pip install zope\n",
        "import torch\n",
        "print(torch.__version__)"
      ],
      "metadata": {
        "id": "fN_uMNrCXJ9X"
      },
      "execution_count": null,
      "outputs": []
    },
    {
      "cell_type": "code",
      "metadata": {
        "id": "z2OPiyt8ey-U"
      },
      "source": [
        "#@title ##**Клонирование репозитория** { display-mode: \"form\" }\n",
        "!git clone https://github.com/baowenbo/DAIN /content/DAIN\n",
        "%cd /content\n",
        "!rm -rf DAIN\n",
        "!git clone --depth 1 https://github.com/AlphaGit/DAIN /content/DAIN\n",
        "%cd /content/DAIN\n",
        "!git log -1"
      ],
      "execution_count": null,
      "outputs": []
    },
    {
      "cell_type": "code",
      "source": [
        "#@title ##**Замена кода** { display-mode: \"form\" }\n",
        "import os\n",
        "import re\n",
        "\n",
        "def process_files(root_dir):\n",
        "    for subdir, dirs, files in os.walk(root_dir):\n",
        "        for file in files:\n",
        "            if file == 'setup.py':\n",
        "                filepath = os.path.join(subdir, file)\n",
        "                with open(filepath, 'r') as f:\n",
        "                    content = f.read()\n",
        "\n",
        "                new_content = re.sub(\n",
        "                    r'^from compiler_args import nvcc_args, cxx_args',\n",
        "                    ''\n",
        "                    r'nvcc_args = [\\n'\n",
        "                    r\"    '-gencode', 'arch=compute_61,code=sm_61',\\n\"\n",
        "                    r\"    '-gencode', 'arch=compute_75,code=sm_75',\\n\"\n",
        "                    r\"    '-gencode', 'arch=compute_86,code=sm_86',\\n\"\n",
        "                    r\"    '--expt-relaxed-constexpr'\\n\"\n",
        "                    r']\\n'\n",
        "                    r'cxx_args = [\\n'\n",
        "                    r\"    '-std=c++14',\\n\"\n",
        "                    r\"    '-O2',\\n\"\n",
        "                    r\"    '-Wall',\\n\"\n",
        "                    r\"    '-fPIC'\\n\"\n",
        "                    r']\\n',\n",
        "                    content,\n",
        "                    flags=re.MULTILINE\n",
        "                )\n",
        "\n",
        "                with open(filepath, 'w') as f:\n",
        "                    f.write(new_content)\n",
        "\n",
        "\n",
        "process_files('/content/DAIN')\n",
        "\n",
        "# открываем файл\n",
        "with open('/content/DAIN/PWCNet/correlation_package_pytorch1_0/correlation.py', 'r') as f:\n",
        "    contents = f.read()\n",
        "\n",
        "new_text = '''\n",
        "import torch\n",
        "from torch.nn.modules.module import Module\n",
        "from torch.autograd import Function\n",
        "import correlation_cuda\n",
        "\n",
        "class CorrelationFunction(Function):\n",
        "    @staticmethod\n",
        "    def forward(ctx, input1, input2, pad_size, kernel_size, max_displacement, stride1, stride2, corr_multiply):\n",
        "        ctx.save_for_backward(input1, input2)\n",
        "        ctx.pad_size = pad_size\n",
        "        ctx.kernel_size = kernel_size\n",
        "        ctx.max_displacement = max_displacement\n",
        "        ctx.stride1 = stride1\n",
        "        ctx.stride2 = stride2\n",
        "        ctx.corr_multiply = corr_multiply\n",
        "\n",
        "        with torch.cuda.device_of(input1):\n",
        "            rbot1 = input1.new_empty((input1.size(0), (max_displacement // stride2 * 2 + 1)**2, input1.size(2) + 2 * pad_size, input1.size(3) + 2 * pad_size))\n",
        "            rbot2 = input2.new_empty((input2.size(0), (max_displacement // stride2 * 2 + 1)**2, input2.size(2) + 2 * pad_size, input2.size(3) + 2 * pad_size))\n",
        "            output = input1.new_empty((input1.size(0), (max_displacement // stride2 * 2 + 1)**2, int((input1.size(2) + 2 * pad_size - kernel_size) / stride1 + 1), int((input1.size(3) + 2 * pad_size - kernel_size) / stride1 + 1)))\n",
        "\n",
        "            correlation_cuda.forward(input1, input2, rbot1, rbot2, output, pad_size, kernel_size, max_displacement, stride1, stride2, corr_multiply)\n",
        "\n",
        "        return output\n",
        "\n",
        "    @staticmethod\n",
        "    def backward(ctx, grad_output):\n",
        "        input1, input2 = ctx.saved_tensors\n",
        "        pad_size = ctx.pad_size\n",
        "        kernel_size = ctx.kernel_size\n",
        "        max_displacement = ctx.max_displacement\n",
        "        stride1 = ctx.stride1\n",
        "        stride2 = ctx.stride2\n",
        "        corr_multiply = ctx.corr_multiply\n",
        "\n",
        "        with torch.cuda.device_of(input1):\n",
        "            grad_input1 = input1.new_empty(input1.size())\n",
        "            grad_input2 = input2.new_empty(input2.size())\n",
        "\n",
        "            correlation_cuda.backward(input1, input2, grad_output.contiguous(), grad_input1, grad_input2, ctx.buffer1, ctx.buffer2, ctx.buffer3, pad_size, kernel_size, max_displacement, stride1, stride2, corr_multiply)\n",
        "\n",
        "        return grad_input1, grad_input2, None, None, None, None, None\n",
        "\n",
        "class Correlation(Module):\n",
        "    def __init__(self, pad_size=0, kernel_size=0, max_displacement=0, stride1=1, stride2=2, corr_multiply=1):\n",
        "        super(Correlation, self).__init__()\n",
        "        self.pad_size = pad_size\n",
        "        self.kernel_size = kernel_size\n",
        "        self.max_displacement = max_displacement\n",
        "        self.stride1 = stride1\n",
        "        self.stride2 = stride2\n",
        "        self.corr_multiply = corr_multiply\n",
        "\n",
        "    def forward(self, input1, input2):\n",
        "        return CorrelationFunction.apply(input1, input2, self.pad_size, self.kernel_size, self.max_displacement, self.stride1, self.stride2, self.corr_multiply)\n",
        "'''\n",
        "\n",
        "with open('/content/DAIN/PWCNet/correlation_package_pytorch1_0/correlation.py', 'w') as f:\n",
        "    f.write(new_text)\n",
        "\n",
        "# Новая строка\n",
        "new_string = \"https://raw.githubusercontent.com/googlefonts/roboto/main/src/hinted/Roboto-Bold.ttf\"\n",
        "\n",
        "# Открываем файл локально и читаем его содержимое\n",
        "filename = '/content/DAIN/colab_interpolate.py'\n",
        "with open(filename, 'r') as f:\n",
        "    script_content = f.read()\n",
        "\n",
        "# Изменяем путь к модели в строке скрипта\n",
        "new_script_content = re.sub(r\"https://github.com/googlefonts/roboto/blob/master/src/hinted/Roboto-Bold.ttf\\?raw=true\", new_string, script_content)\n",
        "\n",
        "# Записываем измененный скрипт в файл\n",
        "with open(filename, 'w') as f:\n",
        "    f.write(new_script_content)\n"
      ],
      "metadata": {
        "id": "Zb64Ucv71bYB"
      },
      "execution_count": 6,
      "outputs": []
    },
    {
      "cell_type": "code",
      "metadata": {
        "id": "uYJVwSm8e9QW"
      },
      "source": [
        "#@title ##**Инициализация ☕️** { display-mode: \"form\" }\n",
        "\n",
        "# Building DAIN.\n",
        "%%capture\n",
        "%cd /content/DAIN/my_package/\n",
        "!./build.sh\n",
        "print(\"Building #1 done.\")\n",
        "# Wait again. ~20 minutes.\n",
        "# Building DAIN PyTorch correlation package.\n",
        "\n",
        "%cd /content/DAIN/PWCNet/correlation_package_pytorch1_0\n",
        "!./build.sh\n",
        "print(\"Building #2 done.\")"
      ],
      "execution_count": 7,
      "outputs": []
    },
    {
      "cell_type": "code",
      "metadata": {
        "id": "dKcZW5bzfEd5"
      },
      "source": [
        "#@title ##**Загрузка модели** { display-mode: \"form\" }\n",
        "%cd /content/DAIN\n",
        "!mkdir model_weights\n",
        "!wget -O model_weights/best.pth http://vllab1.ucmerced.edu/~wenbobao/DAIN/best.pth"
      ],
      "execution_count": null,
      "outputs": []
    },
    {
      "cell_type": "code",
      "metadata": {
        "id": "AiyFoh5ufJ-l"
      },
      "source": [
        "#@title ##**Установка imagemagick** { display-mode: \"form\" }\n",
        "%%capture\n",
        "!CUDA_VISIBLE_DEVICES=0\n",
        "!sudo apt-get install imagemagick imagemagick-doc\n",
        "print(\"Finished installing dependencies.\")"
      ],
      "execution_count": 9,
      "outputs": []
    },
    {
      "cell_type": "code",
      "metadata": {
        "id": "GNReG1MldgtR"
      },
      "source": [
        "#@title ##**Конфигурация** { display-mode: \"form\" }\n",
        "path = '/mnt/gdrive/MyDrive/'\n",
        "\n",
        "INPUT_FILEPATH =  os.path.join(path, file_name)\n",
        "\n",
        "OUTPUT_FILE_PATH = \"/content/DAIN/output.mp4\"\n",
        "\n",
        "TARGET_FPS =  80#@param{type:\"number\"}\n",
        "\n",
        "FRAME_INPUT_DIR = '/mnt/gdrive/MyDrive/dain_input'\n",
        "\n",
        "FRAME_OUTPUT_DIR = '/mnt/gdrive/MyDrive/dain_output'\n",
        "\n",
        "SEAMLESS = False #@param{type:\"boolean\"}\n",
        "\n",
        "RESIZE_HOTFIX = False #@param{type:\"boolean\"}\n",
        "\n",
        "AUTO_REMOVE = False"
      ],
      "execution_count": 27,
      "outputs": []
    },
    {
      "cell_type": "code",
      "source": [
        "#@title ##**Создать папки для изображений** { display-mode: \"form\" }\n",
        "#если нужно продолжить предедущую обработку, то пропустите этот пункт\n",
        "from google.colab import files\n",
        "import shutil\n",
        "import glob\n",
        "import os\n",
        "\n",
        "input_image_folder = '/mnt/gdrive/MyDrive/dain_input'\n",
        "output_image_folder = '/mnt/gdrive/MyDrive/dain_output'\n",
        "\n",
        "if not os.path.exists(input_image_folder):\n",
        "    os.makedirs(input_image_folder)\n",
        "\n",
        "\n",
        "if not os.path.exists(output_image_folder):\n",
        "    os.makedirs(output_image_folder)\n"
      ],
      "metadata": {
        "id": "YdRxKf4pV9E6"
      },
      "execution_count": 28,
      "outputs": []
    },
    {
      "cell_type": "code",
      "source": [
        "#@title ##**Очистить входящую папку** { display-mode: \"form\" }\n",
        "if os.path.isdir(input_image_folder):\n",
        "    shutil.rmtree(input_image_folder)\n",
        "\n",
        "os.makedirs(input_image_folder)"
      ],
      "metadata": {
        "id": "fEabyVHGWoVf"
      },
      "execution_count": 38,
      "outputs": []
    },
    {
      "cell_type": "code",
      "source": [
        "#@title ##**Очистить исходящую папку** { display-mode: \"form\" }\n",
        "if os.path.isdir(output_image_folder):\n",
        "    shutil.rmtree(output_image_folder)\n",
        "\n",
        "os.makedirs(output_image_folder)"
      ],
      "metadata": {
        "id": "gZ17EF1rWxqs"
      },
      "execution_count": 39,
      "outputs": []
    },
    {
      "cell_type": "code",
      "metadata": {
        "id": "obVq_xs-fvC1"
      },
      "source": [
        "#@title ##**Создать секвенцию** { display-mode: \"form\" }\n",
        "# Detecting FPS of input file.\n",
        "#%shell yes | cp -f /content/gdrive/My\\ Drive/{INPUT_FILEPATH} /contIN/ent/DA\n",
        "#%shell yes | cp -f /content/{INPUT_FILEPATH} \n",
        "\n",
        "import os\n",
        "filename = os.path.basename(INPUT_FILEPATH)\n",
        "\n",
        "import cv2\n",
        "cap = cv2.VideoCapture(INPUT_FILEPATH)\n",
        "\n",
        "fps = cap.get(cv2.CAP_PROP_FPS)\n",
        "\n",
        "if(fps/TARGET_FPS>0.5):\n",
        "  print(\"Define a higher fps, because there is not enough time for new frames. (Old FPS)/(New FPS) should be lower than 0.5. Interpolation will fail if you try.\")\n",
        "# ffmpeg extract - Generating individual frame PNGs from the source file.\n",
        "%shell rm -rf '{FRAME_INPUT_DIR}'\n",
        "%shell mkdir -p '{FRAME_INPUT_DIR}'\n",
        "\n",
        "%shell ffmpeg -i '{INPUT_FILEPATH}' -vf \"setpts=1.1*PTS\" '{FRAME_INPUT_DIR}/%05d.png'\n",
        "\n",
        "png_generated_count_command_result = %shell ls '{FRAME_INPUT_DIR}' | wc -l\n",
        "from IPython.display import clear_output\n",
        "clear_output()\n",
        "\n",
        "pngs_generated_count = int(png_generated_count_command_result.output.strip())\n",
        "\n",
        "import shutil\n",
        "if SEAMLESS==True:\n",
        "  pngs_generated_count += 1\n",
        "  original = str(FRAME_INPUT_DIR)+\"/00001.png\"\n",
        "  target = str(FRAME_INPUT_DIR)+\"/\"+str(pngs_generated_count).zfill(5)+\".png\"\n",
        "  shutil.copyfile(original, target)\n",
        "\n",
        "print(f\"Input FPS: {fps}\")\n",
        "print(f\"{pngs_generated_count} frame PNGs generated.\")\n",
        "\n",
        "# Checking if PNG do have alpha\n",
        "import subprocess as sp\n",
        "%cd {FRAME_INPUT_DIR}\n",
        "channels = sp.getoutput('identify -format %[channels] 00001.png')\n",
        "print (f\"{channels} detected\")\n",
        "\n",
        "# Removing alpha if detected\n",
        "if \"a\" in channels:\n",
        "  print(\"Alpha detected and will be removed.\")\n",
        "  print(sp.getoutput('find . -name \"*.png\" -exec convert \"{}\" -alpha off PNG24:\"{}\" \\;'))\n",
        "#%shell mkdir -p '{FRAME_OUTPUT_DIR}'"
      ],
      "execution_count": null,
      "outputs": []
    },
    {
      "cell_type": "code",
      "source": [
        "#@title ##**Создать лог файл** { display-mode: \"form\" }\n",
        "\n",
        "dir_path = '/content/DAIN'\n",
        "\n",
        "if not os.path.exists(dir_path):\n",
        "    os.makedirs(dir_path)\n",
        "\n",
        "file_path = os.path.join(dir_path, 'scene_frames.log')\n",
        "with open(file_path, 'w') as f:\n",
        "    f.write('')"
      ],
      "metadata": {
        "id": "uulQt_UTwwQS"
      },
      "execution_count": 35,
      "outputs": []
    },
    {
      "cell_type": "code",
      "metadata": {
        "id": "LH7EmLT2gA4l"
      },
      "source": [
        "#@title ##**Запуск** { display-mode: \"form\" }\n",
        "#%shell mkdir -p '{FRAME_OUTPUT_DIR}'\n",
        "%cd /content/DAIN\n",
        "print(fps)\n",
        "\n",
        "!python -W ignore colab_interpolate.py --netName DAIN_slowmotion --time_step {fps/TARGET_FPS} --start_frame 1 --end_frame {pngs_generated_count} --frame_input_dir '{FRAME_INPUT_DIR}' --frame_output_dir '{FRAME_OUTPUT_DIR}'\n"
      ],
      "execution_count": null,
      "outputs": []
    },
    {
      "cell_type": "code",
      "source": [
        "#@title ##**Переименовать секвенцию** { display-mode: \"form\" }\n",
        "import glob\n",
        "import os\n",
        "import time\n",
        "\n",
        "png_files = sorted(glob.glob('/mnt/gdrive/MyDrive/dain_output/*.png'))\n",
        "png_files.sort()\n",
        "\n",
        "for i, file in enumerate(png_files):\n",
        "    new_filename = '{:05d}.png'.format(i+1)\n",
        "    success = False\n",
        "    while not success:\n",
        "        try:\n",
        "            os.rename(file, os.path.join(os.path.dirname(file), new_filename))\n",
        "            success = True\n",
        "        except Exception as e:\n",
        "            print(f\"Error renaming {file} to {new_filename}: {e}\")\n",
        "            time.sleep(1)  # ждем 1 секунду перед повторной попыткой"
      ],
      "metadata": {
        "id": "rQpksLZUBDbQ"
      },
      "execution_count": 43,
      "outputs": []
    },
    {
      "cell_type": "code",
      "metadata": {
        "id": "nljwMSB1gFXC"
      },
      "source": [
        "#@title ##**Подогнать под оригинальный размер** { display-mode: \"form\" }\n",
        "# Finding DAIN Frames, upscaling and cropping to match original(optional)\n",
        "import numpy as np\n",
        "import os\n",
        "import cv2\n",
        "%cd {FRAME_OUTPUT_DIR}\n",
        "if(RESIZE_HOTFIX==True):\n",
        "  images = []\n",
        "  for filename in os.listdir(f'{FRAME_OUTPUT_DIR}'):\n",
        "    img = cv2.imread(os.path.join(f'{FRAME_OUTPUT_DIR}',filename))\n",
        "    part_filename = os.path.splitext(filename)\n",
        "    if(part_filename[0].endswith('0')==False):\n",
        "      dimension = (img.shape[1]+2, img.shape[0]+2)\n",
        "      resized = cv2.resize(img, dimension, interpolation=cv2.INTER_LANCZOS4)\n",
        "      crop = resized[1:(dimension[1]-1), 1:(dimension[0]-1)]\n",
        "      cv2.imwrite(part_filename[0]+\".png\", crop)\n",
        "\n",
        "%cd /content/DAIN"
      ],
      "execution_count": null,
      "outputs": []
    },
    {
      "cell_type": "code",
      "source": [
        "#@title ##**Сборка видео** { display-mode: \"form\" }\n",
        "import cv2\n",
        "import os\n",
        "from tqdm.notebook import tqdm\n",
        "\n",
        "output_file = \"/mnt/gdrive/MyDrive/output.mp4\"\n",
        "path = '/mnt/gdrive/MyDrive/'\n",
        "\n",
        "full_path = os.path.join(path, file_name)\n",
        "\n",
        "cap = cv2.VideoCapture(full_path)\n",
        "fps_of_video = int(cap.get(cv2.CAP_PROP_FPS))\n",
        "cap.release()\n",
        "\n",
        "img_files = os.listdir(output_image_folder)\n",
        "img_files.sort()\n",
        "\n",
        "frame = cv2.imread(os.path.join(output_image_folder, img_files[0]))\n",
        "height, width, _ = frame.shape\n",
        "\n",
        "fourcc = cv2.VideoWriter_fourcc(*'mp4v')\n",
        "writer = cv2.VideoWriter(output_file, fourcc, TARGET_FPS, (width, height))\n",
        "\n",
        "for img_file in tqdm(img_files, desc='Сборка видео'):\n",
        "    img_path = os.path.join(output_image_folder, img_file)\n",
        "    frame = cv2.imread(img_path)\n",
        "\n",
        "    writer.write(frame)\n",
        "\n",
        "writer.release()\n",
        "print('Сборка завершена')"
      ],
      "metadata": {
        "id": "CjaGj1BjDe1G"
      },
      "execution_count": null,
      "outputs": []
    },
    {
      "cell_type": "code",
      "metadata": {
        "id": "pmy_1EaZgSfc"
      },
      "source": [
        "#@title ##**Добавление звука** { display-mode: \"form\" }\n",
        "from moviepy.editor import VideoFileClip\n",
        "from moviepy.editor import AudioFileClip\n",
        "\n",
        "video = VideoFileClip(output_file)\n",
        "\n",
        "audio = AudioFileClip(full_path)\n",
        "\n",
        "video = video.set_audio(audio)\n",
        "\n",
        "video.write_videofile('/mnt/gdrive/MyDrive/output_with_audio.mp4')"
      ],
      "execution_count": null,
      "outputs": []
    },
    {
      "cell_type": "code",
      "metadata": {
        "id": "AGK0PJcZs-P6"
      },
      "source": [
        "#@title ##**Скачать файл (опционально, быстерее можно скачать в гугл диске)** { display-mode: \"form\" }\n",
        "from google.colab import files\n",
        "files.download('/mnt/gdrive/MyDrive/output_with_audio.mp4')"
      ],
      "execution_count": null,
      "outputs": []
    }
  ]
}